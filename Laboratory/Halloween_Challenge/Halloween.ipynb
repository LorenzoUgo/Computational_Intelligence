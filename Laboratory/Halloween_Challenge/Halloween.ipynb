{
 "cells": [
  {
   "cell_type": "markdown",
   "id": "185f9931-b384-4fdc-a5b2-eea785428bb8",
   "metadata": {},
   "source": [
    "Copyright **`(c)`** 2023 Giovanni Squillero `<giovanni.squillero@polito.it>`  \n",
    "[`https://github.com/squillero/computational-intelligence`](https://github.com/squillero/computational-intelligence)  \n",
    "Free for personal or classroom use; see [`LICENSE.md`](https://github.com/squillero/computational-intelligence/blob/master/LICENSE.md) for details.  "
   ]
  },
  {
   "cell_type": "code",
   "execution_count": 1,
   "id": "3ffe7245-e849-41d0-9698-5f0e0b83fee9",
   "metadata": {},
   "outputs": [],
   "source": [
    "from itertools import product\n",
    "from random import random, randint, shuffle, seed, choice\n",
    "import numpy as np\n",
    "from scipy import sparse\n",
    "from functools import reduce\n",
    "from copy import copy\n",
    "from collections import deque\n",
    " \n"
   ]
  },
  {
   "cell_type": "code",
   "execution_count": 2,
   "id": "6f03bd67-78a0-4d72-95b7-77a918727b91",
   "metadata": {},
   "outputs": [],
   "source": [
    "def make_set_covering_problem(num_points, num_sets, density):\n",
    "    \"\"\"Returns a sparse array where rows are sets and columns are the covered items\"\"\"\n",
    "    seed(num_points*2654435761+num_sets+density)\n",
    "    sets = sparse.lil_array((num_sets, num_points), dtype=bool)\n",
    "    for s, p in product(range(num_sets), range(num_points)):\n",
    "        if random() < density:\n",
    "            sets[s, p] = True\n",
    "    for p in range(num_points):\n",
    "        sets[randint(0, num_sets-1), p] = True\n",
    "    return sets"
   ]
  },
  {
   "cell_type": "markdown",
   "id": "82b0be37-21d9-492d-9a1d-cf0cdf0ddd76",
   "metadata": {},
   "source": [
    "# Halloween Challenge\n",
    "\n",
    "Find the best solution with the fewest calls to the fitness functions for:\n",
    "\n",
    "* `num_points = [100, 1_000, 5_000]`\n",
    "* `num_sets = num_points`\n",
    "* `density = [.3, .7]` "
   ]
  },
  {
   "cell_type": "code",
   "execution_count": 23,
   "id": "221ffdba-5d3d-48cc-bd08-45ccc9366ea6",
   "metadata": {},
   "outputs": [],
   "source": [
    "NUM_POINTS = 1000\n",
    "NUM_SETS = NUM_POINTS\n",
    "DENSITY = .3"
   ]
  },
  {
   "cell_type": "code",
   "execution_count": 24,
   "id": "6492337b-8429-472d-9c3e-c79c5b46da54",
   "metadata": {},
   "outputs": [],
   "source": [
    "x = make_set_covering_problem(NUM_POINTS, NUM_SETS, .3)\n",
    "# print(\"Element at row=42 and column=42:\", x[42, 42])"
   ]
  },
  {
   "cell_type": "code",
   "execution_count": 25,
   "id": "6f1c6200",
   "metadata": {},
   "outputs": [],
   "source": [
    "SETS = x.toarray()"
   ]
  },
  {
   "cell_type": "code",
   "execution_count": 26,
   "id": "a9177724",
   "metadata": {},
   "outputs": [
    {
     "data": {
      "text/plain": [
       "300776"
      ]
     },
     "execution_count": 26,
     "metadata": {},
     "output_type": "execute_result"
    }
   ],
   "source": [
    "sum(sum(SETS))"
   ]
  },
  {
   "cell_type": "code",
   "execution_count": 27,
   "id": "69a53be2",
   "metadata": {},
   "outputs": [],
   "source": [
    "def fitness(state):\n",
    "    cost = sum(state)\n",
    "    valid = np.sum(\n",
    "        reduce(\n",
    "            np.logical_or,\n",
    "            [SETS[i] for i, t in enumerate(state) if t],\n",
    "            np.array([False for _ in range(NUM_POINTS)]),\n",
    "        )\n",
    "    )\n",
    "    return valid, -cost"
   ]
  },
  {
   "cell_type": "code",
   "execution_count": 28,
   "id": "51050f04",
   "metadata": {},
   "outputs": [],
   "source": [
    "def tweak(state):\n",
    "    new_state = copy(state)\n",
    "    index = randint(0, NUM_SETS - 1)\n",
    "    new_state[index] = not new_state[index]\n",
    "    return new_state\n",
    "\n",
    "def tweak2(state):\n",
    "    new_state = copy(state)\n",
    "    cost = sum(state)\n",
    "    state_to_change = randint(0, cost)\n",
    "    for i in range(state_to_change):\n",
    "        index = randint(0, NUM_SETS - 1)\n",
    "        while not new_state[index]:\n",
    "            index = randint(0, NUM_SETS - 1)\n",
    "        new_state[index] = not new_state[index]\n",
    "\n",
    "    for i in range(state_to_change):\n",
    "        index = randint(0, NUM_SETS - 1)\n",
    "        new_state[index] = not new_state[index]\n",
    "    return new_state"
   ]
  },
  {
   "cell_type": "code",
   "execution_count": 29,
   "id": "c94e5241",
   "metadata": {},
   "outputs": [
    {
     "name": "stdout",
     "output_type": "stream",
     "text": [
      "(274, -1)\n",
      "(480, -2)\n",
      "(650, -3)\n",
      "(762, -4)\n",
      "(843, -5)\n",
      "(885, -6)\n",
      "(918, -7)\n",
      "(946, -8)\n",
      "(963, -9)\n",
      "(978, -10)\n",
      "(982, -11)\n",
      "(987, -12)\n",
      "(994, -13)\n",
      "(995, -14)\n",
      "(996, -15)\n",
      "(997, -16)\n",
      "(998, -17)\n",
      "(1000, -18)\n",
      "(1000, -17)\n",
      "(1000, -16)\n",
      "(1000, -15)\n",
      "(1000, -14)\n"
     ]
    }
   ],
   "source": [
    "current_state = [choice([False, False, False, False, False, False, False, False, False, False]) for _ in range(NUM_SETS)]\n",
    "#print(\"SETS\", SETS, current_state, fitness(current_state), sep=\"\\n\")\n",
    "count = 0\n",
    "for step in range(10_000):\n",
    "    new_state = tweak(current_state)\n",
    "    count += 2\n",
    "    if fitness(new_state) >= fitness(current_state):\n",
    "        current_state = new_state\n",
    "        print(fitness(current_state))\n",
    "        count += 1"
   ]
  },
  {
   "cell_type": "code",
   "execution_count": 31,
   "id": "b86e42dd",
   "metadata": {},
   "outputs": [
    {
     "name": "stdout",
     "output_type": "stream",
     "text": [
      "(299, -1)\n",
      "(527, -2)\n",
      "(674, -3)\n",
      "(778, -4)\n",
      "(856, -5)\n",
      "(898, -6)\n",
      "(923, -7)\n",
      "(945, -8)\n",
      "(968, -9)\n",
      "(977, -10)\n",
      "(982, -11)\n",
      "(989, -12)\n",
      "(993, -13)\n",
      "(994, -14)\n",
      "(997, -15)\n",
      "(1000, -16)\n",
      "(1000, -14)\n"
     ]
    }
   ],
   "source": [
    "current_state = [choice([False, False, False, False, False, False, False, False, False, False]) for _ in range(NUM_SETS)]\n",
    "#print(\"SETS\", SETS, current_state, fitness(current_state), sep=\"\\n\")\n",
    "count = 0\n",
    "for step in range(10_000):\n",
    "    current_fitness = fitness(current_state)\n",
    "\n",
    "    if current_fitness[0] == NUM_POINTS:\n",
    "        new_state = tweak2(current_state)\n",
    "    else:\n",
    "        new_state = tweak(current_state)\n",
    "\n",
    "    new_fit = fitness(new_state)\n",
    "\n",
    "    count += 2\n",
    "    if new_fit > current_fitness:\n",
    "        current_state = new_state\n",
    "        print(fitness(current_state))\n",
    "        count += 1"
   ]
  },
  {
   "cell_type": "code",
   "execution_count": 32,
   "id": "cc6a5d91",
   "metadata": {},
   "outputs": [
    {
     "data": {
      "text/plain": [
       "20017"
      ]
     },
     "execution_count": 32,
     "metadata": {},
     "output_type": "execute_result"
    }
   ],
   "source": [
    "count"
   ]
  }
 ],
 "metadata": {
  "kernelspec": {
   "display_name": "Python 3 (ipykernel)",
   "language": "python",
   "name": "python3"
  },
  "language_info": {
   "codemirror_mode": {
    "name": "ipython",
    "version": 3
   },
   "file_extension": ".py",
   "mimetype": "text/x-python",
   "name": "python",
   "nbconvert_exporter": "python",
   "pygments_lexer": "ipython3",
   "version": "3.12.0"
  }
 },
 "nbformat": 4,
 "nbformat_minor": 5
}
