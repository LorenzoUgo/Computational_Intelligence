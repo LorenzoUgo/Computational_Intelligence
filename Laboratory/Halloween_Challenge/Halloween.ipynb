{
 "cells": [
  {
   "cell_type": "markdown",
   "id": "185f9931-b384-4fdc-a5b2-eea785428bb8",
   "metadata": {},
   "source": [
    "Copyright **`(c)`** 2023 Giovanni Squillero `<giovanni.squillero@polito.it>`  \n",
    "[`https://github.com/squillero/computational-intelligence`](https://github.com/squillero/computational-intelligence)  \n",
    "Free for personal or classroom use; see [`LICENSE.md`](https://github.com/squillero/computational-intelligence/blob/master/LICENSE.md) for details.  "
   ]
  },
  {
   "cell_type": "code",
   "execution_count": 1,
   "id": "3ffe7245-e849-41d0-9698-5f0e0b83fee9",
   "metadata": {},
   "outputs": [],
   "source": [
    "from itertools import product\n",
    "from random import random, randint, shuffle, seed, choice\n",
    "import numpy as np\n",
    "from scipy import sparse\n",
    "from functools import reduce\n",
    "from copy import copy\n",
    "from collections import deque"
   ]
  },
  {
   "cell_type": "code",
   "execution_count": 2,
   "id": "6f03bd67-78a0-4d72-95b7-77a918727b91",
   "metadata": {},
   "outputs": [],
   "source": [
    "def make_set_covering_problem(num_points, num_sets, density):\n",
    "    \"\"\"Returns a sparse array where rows are sets and columns are the covered items\"\"\"\n",
    "    seed(num_points*2654435761+num_sets+density)\n",
    "    sets = sparse.lil_array((num_sets, num_points), dtype=bool)\n",
    "    for s, p in product(range(num_sets), range(num_points)):\n",
    "        if random() < density:\n",
    "            sets[s, p] = True\n",
    "    for p in range(num_points):\n",
    "        sets[randint(0, num_sets-1), p] = True\n",
    "    return sets"
   ]
  },
  {
   "cell_type": "markdown",
   "id": "82b0be37-21d9-492d-9a1d-cf0cdf0ddd76",
   "metadata": {},
   "source": [
    "# Halloween Challenge\n",
    "\n",
    "Find the best solution with the fewest calls to the fitness functions for:\n",
    "\n",
    "* `num_points = [100, 1_000, 5_000]`\n",
    "* `num_sets = num_points`\n",
    "* `density = [.3, .7]` "
   ]
  },
  {
   "cell_type": "code",
   "execution_count": 3,
   "id": "221ffdba-5d3d-48cc-bd08-45ccc9366ea6",
   "metadata": {},
   "outputs": [],
   "source": [
    "NUM_POINTS = 5000\n",
    "NUM_SETS = NUM_POINTS\n",
    "DENSITY = .3"
   ]
  },
  {
   "cell_type": "code",
   "execution_count": 5,
   "id": "6492337b-8429-472d-9c3e-c79c5b46da54",
   "metadata": {},
   "outputs": [],
   "source": [
    "x = make_set_covering_problem(NUM_POINTS, NUM_SETS, .3)\n",
    "# print(\"Element at row=42 and column=42:\", x[42, 42])"
   ]
  },
  {
   "cell_type": "code",
   "execution_count": 6,
   "id": "6f1c6200",
   "metadata": {},
   "outputs": [],
   "source": [
    "SETS = x.toarray()"
   ]
  },
  {
   "cell_type": "code",
   "execution_count": null,
   "id": "a9177724",
   "metadata": {},
   "outputs": [],
   "source": [
    "for i in range(NUM_POINTS):\n",
    "    print(sum(SETS)[i])\n"
   ]
  },
  {
   "cell_type": "code",
   "execution_count": 72,
   "metadata": {},
   "outputs": [
    {
     "name": "stdout",
     "output_type": "stream",
     "text": [
      "SETS\n"
     ]
    },
    {
     "ename": "KeyboardInterrupt",
     "evalue": "",
     "output_type": "error",
     "traceback": [
      "\u001b[1;31m---------------------------------------------------------------------------\u001b[0m",
      "\u001b[1;31mKeyboardInterrupt\u001b[0m                         Traceback (most recent call last)",
      "\u001b[1;32mc:\\Users\\Lorenzo Ugoccioni\\Documents\\PoliTo\\LM - II anno\\Computational Intelligence\\Coding\\Laboratory\\Halloween_Challenge\\Halloween.ipynb Cella 9\u001b[0m line \u001b[0;36m2\n\u001b[0;32m      <a href='vscode-notebook-cell:/c%3A/Users/Lorenzo%20Ugoccioni/Documents/PoliTo/LM%20-%20II%20anno/Computational%20Intelligence/Coding/Laboratory/Halloween_Challenge/Halloween.ipynb#X20sZmlsZQ%3D%3D?line=0'>1</a>\u001b[0m current_state \u001b[39m=\u001b[39m [choice([\u001b[39mFalse\u001b[39;00m, \u001b[39mFalse\u001b[39;00m, \u001b[39mFalse\u001b[39;00m, \u001b[39mFalse\u001b[39;00m, \u001b[39mFalse\u001b[39;00m, \u001b[39mFalse\u001b[39;00m, \u001b[39mFalse\u001b[39;00m, \u001b[39mFalse\u001b[39;00m,\u001b[39mFalse\u001b[39;00m, \u001b[39mFalse\u001b[39;00m, \u001b[39mFalse\u001b[39;00m, \u001b[39mFalse\u001b[39;00m, \u001b[39mFalse\u001b[39;00m, \u001b[39mFalse\u001b[39;00m, \u001b[39mFalse\u001b[39;00m, \u001b[39mFalse\u001b[39;00m,\u001b[39mFalse\u001b[39;00m, \u001b[39mFalse\u001b[39;00m, \u001b[39mFalse\u001b[39;00m, \u001b[39mFalse\u001b[39;00m, \u001b[39mFalse\u001b[39;00m, \u001b[39mFalse\u001b[39;00m, \u001b[39mFalse\u001b[39;00m, \u001b[39mFalse\u001b[39;00m,\u001b[39mFalse\u001b[39;00m, \u001b[39mFalse\u001b[39;00m, \u001b[39mFalse\u001b[39;00m, \u001b[39mFalse\u001b[39;00m, \u001b[39mFalse\u001b[39;00m, \u001b[39mFalse\u001b[39;00m, \u001b[39mFalse\u001b[39;00m, \u001b[39mFalse\u001b[39;00m,\u001b[39mTrue\u001b[39;00m, \u001b[39mFalse\u001b[39;00m, \u001b[39mFalse\u001b[39;00m, \u001b[39mFalse\u001b[39;00m, \u001b[39mFalse\u001b[39;00m, \u001b[39mFalse\u001b[39;00m, \u001b[39mFalse\u001b[39;00m, \u001b[39mFalse\u001b[39;00m, \u001b[39mFalse\u001b[39;00m,\u001b[39mFalse\u001b[39;00m, \u001b[39mFalse\u001b[39;00m, \u001b[39mFalse\u001b[39;00m, \u001b[39mFalse\u001b[39;00m, \u001b[39mFalse\u001b[39;00m, \u001b[39mFalse\u001b[39;00m, \u001b[39mFalse\u001b[39;00m, \u001b[39mFalse\u001b[39;00m,\u001b[39mFalse\u001b[39;00m, \u001b[39mFalse\u001b[39;00m, \u001b[39mFalse\u001b[39;00m, \u001b[39mFalse\u001b[39;00m, \u001b[39mFalse\u001b[39;00m, \u001b[39mFalse\u001b[39;00m, \u001b[39mFalse\u001b[39;00m, \u001b[39mFalse\u001b[39;00m,\u001b[39mFalse\u001b[39;00m, \u001b[39mFalse\u001b[39;00m, \u001b[39mFalse\u001b[39;00m, \u001b[39mFalse\u001b[39;00m, \u001b[39mFalse\u001b[39;00m, \u001b[39mFalse\u001b[39;00m, \u001b[39mFalse\u001b[39;00m, \u001b[39mFalse\u001b[39;00m, \u001b[39mFalse\u001b[39;00m,\u001b[39mFalse\u001b[39;00m, \u001b[39mFalse\u001b[39;00m, \u001b[39mFalse\u001b[39;00m, \u001b[39mFalse\u001b[39;00m, \u001b[39mFalse\u001b[39;00m, \u001b[39mFalse\u001b[39;00m, \u001b[39mFalse\u001b[39;00m, \u001b[39mFalse\u001b[39;00m,\u001b[39mFalse\u001b[39;00m, \u001b[39mFalse\u001b[39;00m, \u001b[39mFalse\u001b[39;00m, \u001b[39mFalse\u001b[39;00m, \u001b[39mFalse\u001b[39;00m, \u001b[39mFalse\u001b[39;00m, \u001b[39mFalse\u001b[39;00m, \u001b[39mFalse\u001b[39;00m,\u001b[39mFalse\u001b[39;00m, \u001b[39mFalse\u001b[39;00m, \u001b[39mFalse\u001b[39;00m, \u001b[39mFalse\u001b[39;00m, \u001b[39mFalse\u001b[39;00m, \u001b[39mFalse\u001b[39;00m, \u001b[39mFalse\u001b[39;00m,\u001b[39mFalse\u001b[39;00m, \u001b[39mFalse\u001b[39;00m, \u001b[39mFalse\u001b[39;00m, \u001b[39mFalse\u001b[39;00m, \u001b[39mFalse\u001b[39;00m, \u001b[39mFalse\u001b[39;00m, \u001b[39mFalse\u001b[39;00m, \u001b[39mFalse\u001b[39;00m,\u001b[39mFalse\u001b[39;00m, \u001b[39mFalse\u001b[39;00m, \u001b[39mFalse\u001b[39;00m, \u001b[39mFalse\u001b[39;00m, \u001b[39mFalse\u001b[39;00m, \u001b[39mFalse\u001b[39;00m, \u001b[39mFalse\u001b[39;00m, \u001b[39mFalse\u001b[39;00m,\u001b[39mFalse\u001b[39;00m, \u001b[39mFalse\u001b[39;00m, \u001b[39mFalse\u001b[39;00m, \u001b[39mFalse\u001b[39;00m, \u001b[39mFalse\u001b[39;00m, \u001b[39mFalse\u001b[39;00m, \u001b[39mFalse\u001b[39;00m, \u001b[39mFalse\u001b[39;00m,\u001b[39mFalse\u001b[39;00m, \u001b[39mFalse\u001b[39;00m, \u001b[39mFalse\u001b[39;00m, \u001b[39mFalse\u001b[39;00m, \u001b[39mFalse\u001b[39;00m, \u001b[39mFalse\u001b[39;00m, \u001b[39mFalse\u001b[39;00m, \u001b[39mFalse\u001b[39;00m,\u001b[39mFalse\u001b[39;00m, \u001b[39mFalse\u001b[39;00m, \u001b[39mFalse\u001b[39;00m, \u001b[39mFalse\u001b[39;00m, \u001b[39mFalse\u001b[39;00m, \u001b[39mFalse\u001b[39;00m, \u001b[39mFalse\u001b[39;00m, \u001b[39mFalse\u001b[39;00m,\u001b[39mFalse\u001b[39;00m, \u001b[39mFalse\u001b[39;00m, \u001b[39mFalse\u001b[39;00m, \u001b[39mFalse\u001b[39;00m, \u001b[39mFalse\u001b[39;00m, \u001b[39mFalse\u001b[39;00m, \u001b[39mFalse\u001b[39;00m, \u001b[39mFalse\u001b[39;00m, \u001b[39mFalse\u001b[39;00m,\u001b[39mFalse\u001b[39;00m, \u001b[39mFalse\u001b[39;00m, \u001b[39mFalse\u001b[39;00m, \u001b[39mFalse\u001b[39;00m, \u001b[39mFalse\u001b[39;00m, \u001b[39mFalse\u001b[39;00m, \u001b[39mFalse\u001b[39;00m, \u001b[39mFalse\u001b[39;00m,\u001b[39mFalse\u001b[39;00m, \u001b[39mFalse\u001b[39;00m, \u001b[39mFalse\u001b[39;00m, \u001b[39mFalse\u001b[39;00m, \u001b[39mFalse\u001b[39;00m, \u001b[39mFalse\u001b[39;00m, \u001b[39mFalse\u001b[39;00m,\u001b[39mFalse\u001b[39;00m, \u001b[39mFalse\u001b[39;00m, \u001b[39mFalse\u001b[39;00m, \u001b[39mFalse\u001b[39;00m, \u001b[39mFalse\u001b[39;00m, \u001b[39mFalse\u001b[39;00m, \u001b[39mFalse\u001b[39;00m, \u001b[39mFalse\u001b[39;00m,\u001b[39mFalse\u001b[39;00m, \u001b[39mFalse\u001b[39;00m, \u001b[39mFalse\u001b[39;00m, \u001b[39mFalse\u001b[39;00m, \u001b[39mFalse\u001b[39;00m, \u001b[39mFalse\u001b[39;00m, \u001b[39mFalse\u001b[39;00m, \u001b[39mFalse\u001b[39;00m, \u001b[39mFalse\u001b[39;00m, \u001b[39mFalse\u001b[39;00m, \u001b[39mFalse\u001b[39;00m, \u001b[39mFalse\u001b[39;00m, \u001b[39mFalse\u001b[39;00m, \u001b[39mFalse\u001b[39;00m, \u001b[39mFalse\u001b[39;00m, \u001b[39mFalse\u001b[39;00m, \u001b[39mFalse\u001b[39;00m, \u001b[39mFalse\u001b[39;00m, \u001b[39mFalse\u001b[39;00m, \u001b[39mFalse\u001b[39;00m, \u001b[39mFalse\u001b[39;00m]) \u001b[39mfor\u001b[39;00m _ \u001b[39min\u001b[39;00m \u001b[39mrange\u001b[39m(NUM_SETS)]\n\u001b[1;32m----> <a href='vscode-notebook-cell:/c%3A/Users/Lorenzo%20Ugoccioni/Documents/PoliTo/LM%20-%20II%20anno/Computational%20Intelligence/Coding/Laboratory/Halloween_Challenge/Halloween.ipynb#X20sZmlsZQ%3D%3D?line=1'>2</a>\u001b[0m \u001b[39mprint\u001b[39;49m(\u001b[39m\"\u001b[39;49m\u001b[39mSETS\u001b[39;49m\u001b[39m\"\u001b[39;49m, x, \u001b[39m\"\u001b[39;49m\u001b[39mcurrent state\u001b[39;49m\u001b[39m\"\u001b[39;49m, current_state, fitness(current_state), sep\u001b[39m=\u001b[39;49m\u001b[39m\"\u001b[39;49m\u001b[39m\\n\u001b[39;49;00m\u001b[39m\"\u001b[39;49m)\n\u001b[0;32m      <a href='vscode-notebook-cell:/c%3A/Users/Lorenzo%20Ugoccioni/Documents/PoliTo/LM%20-%20II%20anno/Computational%20Intelligence/Coding/Laboratory/Halloween_Challenge/Halloween.ipynb#X20sZmlsZQ%3D%3D?line=2'>3</a>\u001b[0m count \u001b[39m=\u001b[39m \u001b[39m0\u001b[39m\n\u001b[0;32m      <a href='vscode-notebook-cell:/c%3A/Users/Lorenzo%20Ugoccioni/Documents/PoliTo/LM%20-%20II%20anno/Computational%20Intelligence/Coding/Laboratory/Halloween_Challenge/Halloween.ipynb#X20sZmlsZQ%3D%3D?line=4'>5</a>\u001b[0m \u001b[39mprint\u001b[39m(reduce(np\u001b[39m.\u001b[39mlogical_and, reduce(np\u001b[39m.\u001b[39mlogical_or,\n\u001b[0;32m      <a href='vscode-notebook-cell:/c%3A/Users/Lorenzo%20Ugoccioni/Documents/PoliTo/LM%20-%20II%20anno/Computational%20Intelligence/Coding/Laboratory/Halloween_Challenge/Halloween.ipynb#X20sZmlsZQ%3D%3D?line=5'>6</a>\u001b[0m        [SETS[i] \u001b[39mfor\u001b[39;00m i, t \u001b[39min\u001b[39;00m \u001b[39menumerate\u001b[39m(current_state) \u001b[39mif\u001b[39;00m t],\n\u001b[0;32m      <a href='vscode-notebook-cell:/c%3A/Users/Lorenzo%20Ugoccioni/Documents/PoliTo/LM%20-%20II%20anno/Computational%20Intelligence/Coding/Laboratory/Halloween_Challenge/Halloween.ipynb#X20sZmlsZQ%3D%3D?line=6'>7</a>\u001b[0m        np\u001b[39m.\u001b[39marray([\u001b[39mFalse\u001b[39;00m \u001b[39mfor\u001b[39;00m _ \u001b[39min\u001b[39;00m \u001b[39mrange\u001b[39m(NUM_POINTS)])\n\u001b[0;32m      <a href='vscode-notebook-cell:/c%3A/Users/Lorenzo%20Ugoccioni/Documents/PoliTo/LM%20-%20II%20anno/Computational%20Intelligence/Coding/Laboratory/Halloween_Challenge/Halloween.ipynb#X20sZmlsZQ%3D%3D?line=7'>8</a>\u001b[0m        ),\u001b[39mTrue\u001b[39;00m))\n",
      "File \u001b[1;32mc:\\Users\\Lorenzo Ugoccioni\\Documents\\PoliTo\\LM - II anno\\Computational Intelligence\\Coding\\venv\\Lib\\site-packages\\scipy\\sparse\\_lil.py:179\u001b[0m, in \u001b[0;36m_lil_base.__str__\u001b[1;34m(self)\u001b[0m\n\u001b[0;32m    177\u001b[0m \u001b[39mfor\u001b[39;00m i, row \u001b[39min\u001b[39;00m \u001b[39menumerate\u001b[39m(\u001b[39mself\u001b[39m\u001b[39m.\u001b[39mrows):\n\u001b[0;32m    178\u001b[0m     \u001b[39mfor\u001b[39;00m pos, j \u001b[39min\u001b[39;00m \u001b[39menumerate\u001b[39m(row):\n\u001b[1;32m--> 179\u001b[0m         val \u001b[39m+\u001b[39m\u001b[39m=\u001b[39m \u001b[39mf\u001b[39m\u001b[39m\"\u001b[39m\u001b[39m  \u001b[39m\u001b[39m{\u001b[39;00m\u001b[39mstr\u001b[39;49m((i,\u001b[39m \u001b[39;49mj))\u001b[39m}\u001b[39;00m\u001b[39m\\t\u001b[39;00m\u001b[39m{\u001b[39;00m\u001b[39mstr\u001b[39m(\u001b[39mself\u001b[39m\u001b[39m.\u001b[39mdata[i][pos])\u001b[39m}\u001b[39;00m\u001b[39m\\n\u001b[39;00m\u001b[39m\"\u001b[39m\n\u001b[0;32m    180\u001b[0m \u001b[39mreturn\u001b[39;00m val[:\u001b[39m-\u001b[39m\u001b[39m1\u001b[39m]\n",
      "\u001b[1;31mKeyboardInterrupt\u001b[0m: "
     ]
    }
   ],
   "source": [
    "current_state = [choice([False, False, False, False, False, False, False, False,False, False, False, False, False, False, False, False,False, False, False, False, False, False, False, False,False, False, False, False, False, False, False, False,True, False, False, False, False, False, False, False, False,False, False, False, False, False, False, False, False,False, False, False, False, False, False, False, False,False, False, False, False, False, False, False, False, False,False, False, False, False, False, False, False, False,False, False, False, False, False, False, False, False,False, False, False, False, False, False, False,False, False, False, False, False, False, False, False,False, False, False, False, False, False, False, False,False, False, False, False, False, False, False, False,False, False, False, False, False, False, False, False,False, False, False, False, False, False, False, False,False, False, False, False, False, False, False, False, False,False, False, False, False, False, False, False, False,False, False, False, False, False, False, False,False, False, False, False, False, False, False, False,False, False, False, False, False, False, False, False, False, False, False, False, False, False, False, False, False, False, False, False, False]) for _ in range(NUM_SETS)]\n",
    "print(\"SETS\", x, \"current state\", current_state, fitness(current_state), sep=\"\\n\")\n",
    "count = 0\n",
    "\n",
    "print(reduce(np.logical_and, reduce(np.logical_or,\n",
    "       [SETS[i] for i, t in enumerate(current_state) if t],\n",
    "       np.array([False for _ in range(NUM_POINTS)])\n",
    "       ),True))"
   ]
  },
  {
   "cell_type": "code",
   "execution_count": 7,
   "id": "69a53be2",
   "metadata": {},
   "outputs": [],
   "source": [
    "def fitness(state):\n",
    "    cost = sum(state)\n",
    "    valid = np.sum(\n",
    "        reduce(\n",
    "            np.logical_or,\n",
    "            [SETS[i] for i, t in enumerate(state) if t],\n",
    "            np.array([False for _ in range(NUM_POINTS)]),\n",
    "        )\n",
    "    )\n",
    "    return valid, -cost"
   ]
  },
  {
   "cell_type": "code",
   "execution_count": 8,
   "id": "51050f04",
   "metadata": {},
   "outputs": [],
   "source": [
    "def tweak(state):\n",
    "    new_state = copy(state)\n",
    "    index = randint(0, NUM_SETS - 1)\n",
    "    new_state[index] = not new_state[index]\n",
    "    return new_state\n",
    "\n",
    "def tweak2(state):\n",
    "    new_state = copy(state)\n",
    "    num_state_to_change = randint(1, sum(state))\n",
    "    state_to_change = [index for index, value in enumerate(state) if value]\n",
    "    \n",
    "    index = choice(state_to_change)\n",
    "    state_to_change.remove(index)\n",
    "    new_state[index] = not new_state[index]\n",
    "\n",
    "    for _ in range(num_state_to_change-1):\n",
    "        index = choice(state_to_change)\n",
    "        state_to_change.remove(index)\n",
    "        new_state[index] = not new_state[index]\n",
    "\n",
    "        new_index = randint(0, NUM_SETS - 1)\n",
    "        new_state[new_index] = not new_state[new_index]\n",
    "        \n",
    "    return new_state"
   ]
  },
  {
   "cell_type": "code",
   "execution_count": 19,
   "id": "c94e5241",
   "metadata": {},
   "outputs": [
    {
     "name": "stdout",
     "output_type": "stream",
     "text": [
      "(1516, -1)\n",
      "(2575, -2)\n",
      "(3366, -3)\n",
      "(3840, -4)\n",
      "(4172, -5)\n",
      "(4424, -6)\n",
      "(4589, -7)\n",
      "(4704, -8)\n",
      "(4794, -9)\n",
      "(4864, -10)\n",
      "(4905, -11)\n",
      "(4934, -12)\n",
      "(4951, -13)\n",
      "(4964, -14)\n",
      "(4972, -15)\n",
      "(4979, -16)\n",
      "(4988, -17)\n",
      "(4992, -18)\n",
      "(4995, -19)\n",
      "(4996, -20)\n",
      "(4998, -21)\n",
      "(4999, -22)\n",
      "(4999, -21)\n",
      "(5000, -22)\n",
      "(5000, -21)\n",
      "(5000, -20)\n"
     ]
    }
   ],
   "source": [
    "current_state = [choice([False, False, False, False, False, False, False, False, False, False]) for _ in range(NUM_SETS)]\n",
    "#print(\"SETS\", SETS, current_state, fitness(current_state), sep=\"\\n\")\n",
    "count = 0\n",
    "for step in range(10000):\n",
    "    new_state = tweak(current_state)\n",
    "    count += 2\n",
    "    if fitness(new_state) >= fitness(current_state):\n",
    "        current_state = new_state\n",
    "        print(fitness(current_state))\n",
    "        count += 1"
   ]
  },
  {
   "cell_type": "code",
   "execution_count": 20,
   "id": "b86e42dd",
   "metadata": {},
   "outputs": [
    {
     "name": "stdout",
     "output_type": "stream",
     "text": [
      "(5000, -24)\n",
      "(5000, -23)\n",
      "(5000, -22)\n",
      "(5000, -21)\n",
      "(5000, -20)\n",
      "(5000, -19)\n",
      "(5000, -18)\n",
      "(5000, -17)\n"
     ]
    }
   ],
   "source": [
    "current_state = [choice([False, False, False, False, False, False, False, False, False, False]) for _ in range(NUM_SETS)]\n",
    "#print(\"SETS\", SETS, current_state, fitness(current_state), sep=\"\\n\")\n",
    "count = 0\n",
    "for step in range(10000):       #-> THIS IS THE MAIN PROBLEM !!! -> HAVE TO BE AUTOMATIC\n",
    "    #print(step)\n",
    "    current_fitness = fitness(current_state)\n",
    "    count += 1\n",
    "    if current_fitness[0] == NUM_POINTS:\n",
    "        new_state = tweak2(current_state)\n",
    "        new_fit = fitness(new_state)\n",
    "        count += 1\n",
    "        if new_fit > current_fitness:\n",
    "            current_state = new_state\n",
    "            print(fitness(current_state))\n",
    "            count += 1\n",
    "    else:\n",
    "        new_state = tweak(current_state)\n",
    "        current_state = new_state\n",
    "    #print(\"current fitness->\",current_fitness)"
   ]
  },
  {
   "cell_type": "code",
   "execution_count": 89,
   "metadata": {},
   "outputs": [
    {
     "name": "stdout",
     "output_type": "stream",
     "text": [
      "(5000, -159)\n",
      "(5000, -158)\n",
      "(5000, -155)\n",
      "(5000, -146)\n",
      "(5000, -137)\n",
      "(5000, -132)\n",
      "(5000, -129)\n",
      "(5000, -128)\n",
      "(5000, -123)\n",
      "(5000, -122)\n",
      "(5000, -119)\n",
      "(5000, -112)\n",
      "(5000, -111)\n",
      "(5000, -108)\n",
      "(5000, -105)\n",
      "(5000, -100)\n",
      "(5000, -99)\n",
      "(5000, -98)\n",
      "(5000, -93)\n",
      "(5000, -92)\n",
      "(5000, -91)\n",
      "(5000, -90)\n",
      "(5000, -89)\n",
      "(5000, -86)\n",
      "(5000, -87)\n",
      "(5000, -86)\n",
      "(5000, -85)\n",
      "(5000, -82)\n",
      "(5000, -79)\n",
      "(5000, -78)\n",
      "(5000, -77)\n",
      "(5000, -76)\n",
      "(5000, -75)\n",
      "(5000, -72)\n",
      "(5000, -69)\n",
      "(5000, -68)\n",
      "(5000, -69)\n",
      "(5000, -66)\n",
      "(5000, -65)\n",
      "(5000, -64)\n",
      "(5000, -63)\n",
      "(5000, -62)\n",
      "(5000, -63)\n",
      "(5000, -58)\n",
      "(5000, -57)\n",
      "(5000, -54)\n",
      "(5000, -53)\n",
      "(5000, -52)\n"
     ]
    },
    {
     "ename": "KeyboardInterrupt",
     "evalue": "",
     "output_type": "error",
     "traceback": [
      "\u001b[1;31m---------------------------------------------------------------------------\u001b[0m",
      "\u001b[1;31mKeyboardInterrupt\u001b[0m                         Traceback (most recent call last)",
      "\u001b[1;32mc:\\Users\\Lorenzo Ugoccioni\\Documents\\PoliTo\\LM - II anno\\Computational Intelligence\\Coding\\Laboratory\\Halloween_Challenge\\Halloween.ipynb Cella 14\u001b[0m line \u001b[0;36m2\n\u001b[0;32m     <a href='vscode-notebook-cell:/c%3A/Users/Lorenzo%20Ugoccioni/Documents/PoliTo/LM%20-%20II%20anno/Computational%20Intelligence/Coding/Laboratory/Halloween_Challenge/Halloween.ipynb#X16sZmlsZQ%3D%3D?line=18'>19</a>\u001b[0m     \u001b[39m# START from here !!\u001b[39;00m\n\u001b[0;32m     <a href='vscode-notebook-cell:/c%3A/Users/Lorenzo%20Ugoccioni/Documents/PoliTo/LM%20-%20II%20anno/Computational%20Intelligence/Coding/Laboratory/Halloween_Challenge/Halloween.ipynb#X16sZmlsZQ%3D%3D?line=20'>21</a>\u001b[0m current_fitness \u001b[39m=\u001b[39m fitness(current_state)\n\u001b[1;32m---> <a href='vscode-notebook-cell:/c%3A/Users/Lorenzo%20Ugoccioni/Documents/PoliTo/LM%20-%20II%20anno/Computational%20Intelligence/Coding/Laboratory/Halloween_Challenge/Halloween.ipynb#X16sZmlsZQ%3D%3D?line=21'>22</a>\u001b[0m \u001b[39mprint\u001b[39m(current_fitness)\n\u001b[0;32m     <a href='vscode-notebook-cell:/c%3A/Users/Lorenzo%20Ugoccioni/Documents/PoliTo/LM%20-%20II%20anno/Computational%20Intelligence/Coding/Laboratory/Halloween_Challenge/Halloween.ipynb#X16sZmlsZQ%3D%3D?line=23'>24</a>\u001b[0m \u001b[39mwhile\u001b[39;00m step \u001b[39m!=\u001b[39m \u001b[39m0\u001b[39m:        \u001b[39m# I try adaptation step after I reach the local maxima\u001b[39;00m\n\u001b[0;32m     <a href='vscode-notebook-cell:/c%3A/Users/Lorenzo%20Ugoccioni/Documents/PoliTo/LM%20-%20II%20anno/Computational%20Intelligence/Coding/Laboratory/Halloween_Challenge/Halloween.ipynb#X16sZmlsZQ%3D%3D?line=24'>25</a>\u001b[0m     \u001b[39mif\u001b[39;00m current_fitness[\u001b[39m0\u001b[39m] \u001b[39m==\u001b[39m NUM_POINTS:\n",
      "File \u001b[1;32mc:\\Users\\Lorenzo Ugoccioni\\Documents\\PoliTo\\LM - II anno\\Computational Intelligence\\Coding\\venv\\Lib\\site-packages\\debugpy\\_vendored\\pydevd\\_pydevd_bundle\\pydevd_frame.py:988\u001b[0m, in \u001b[0;36mPyDBFrame.trace_dispatch\u001b[1;34m(self, frame, event, arg)\u001b[0m\n\u001b[0;32m    986\u001b[0m \u001b[39m# if thread has a suspend flag, we suspend with a busy wait\u001b[39;00m\n\u001b[0;32m    987\u001b[0m \u001b[39mif\u001b[39;00m info\u001b[39m.\u001b[39mpydev_state \u001b[39m==\u001b[39m STATE_SUSPEND:\n\u001b[1;32m--> 988\u001b[0m     \u001b[39mself\u001b[39;49m\u001b[39m.\u001b[39;49mdo_wait_suspend(thread, frame, event, arg)\n\u001b[0;32m    989\u001b[0m     \u001b[39mreturn\u001b[39;00m \u001b[39mself\u001b[39m\u001b[39m.\u001b[39mtrace_dispatch\n\u001b[0;32m    990\u001b[0m \u001b[39melse\u001b[39;00m:\n",
      "File \u001b[1;32mc:\\Users\\Lorenzo Ugoccioni\\Documents\\PoliTo\\LM - II anno\\Computational Intelligence\\Coding\\venv\\Lib\\site-packages\\debugpy\\_vendored\\pydevd\\_pydevd_bundle\\pydevd_frame.py:165\u001b[0m, in \u001b[0;36mPyDBFrame.do_wait_suspend\u001b[1;34m(self, *args, **kwargs)\u001b[0m\n\u001b[0;32m    164\u001b[0m \u001b[39mdef\u001b[39;00m \u001b[39mdo_wait_suspend\u001b[39m(\u001b[39mself\u001b[39m, \u001b[39m*\u001b[39margs, \u001b[39m*\u001b[39m\u001b[39m*\u001b[39mkwargs):\n\u001b[1;32m--> 165\u001b[0m     \u001b[39mself\u001b[39;49m\u001b[39m.\u001b[39;49m_args[\u001b[39m0\u001b[39;49m]\u001b[39m.\u001b[39;49mdo_wait_suspend(\u001b[39m*\u001b[39;49margs, \u001b[39m*\u001b[39;49m\u001b[39m*\u001b[39;49mkwargs)\n",
      "File \u001b[1;32mc:\\Users\\Lorenzo Ugoccioni\\Documents\\PoliTo\\LM - II anno\\Computational Intelligence\\Coding\\venv\\Lib\\site-packages\\debugpy\\_vendored\\pydevd\\pydevd.py:2070\u001b[0m, in \u001b[0;36mPyDB.do_wait_suspend\u001b[1;34m(self, thread, frame, event, arg, exception_type)\u001b[0m\n\u001b[0;32m   2067\u001b[0m             from_this_thread\u001b[39m.\u001b[39mappend(frame_custom_thread_id)\n\u001b[0;32m   2069\u001b[0m     \u001b[39mwith\u001b[39;00m \u001b[39mself\u001b[39m\u001b[39m.\u001b[39m_threads_suspended_single_notification\u001b[39m.\u001b[39mnotify_thread_suspended(thread_id, thread, stop_reason):\n\u001b[1;32m-> 2070\u001b[0m         keep_suspended \u001b[39m=\u001b[39m \u001b[39mself\u001b[39;49m\u001b[39m.\u001b[39;49m_do_wait_suspend(thread, frame, event, arg, suspend_type, from_this_thread, frames_tracker)\n\u001b[0;32m   2072\u001b[0m frames_list \u001b[39m=\u001b[39m \u001b[39mNone\u001b[39;00m\n\u001b[0;32m   2074\u001b[0m \u001b[39mif\u001b[39;00m keep_suspended:\n\u001b[0;32m   2075\u001b[0m     \u001b[39m# This means that we should pause again after a set next statement.\u001b[39;00m\n",
      "File \u001b[1;32mc:\\Users\\Lorenzo Ugoccioni\\Documents\\PoliTo\\LM - II anno\\Computational Intelligence\\Coding\\venv\\Lib\\site-packages\\debugpy\\_vendored\\pydevd\\pydevd.py:2106\u001b[0m, in \u001b[0;36mPyDB._do_wait_suspend\u001b[1;34m(self, thread, frame, event, arg, suspend_type, from_this_thread, frames_tracker)\u001b[0m\n\u001b[0;32m   2103\u001b[0m         \u001b[39mself\u001b[39m\u001b[39m.\u001b[39m_call_input_hook()\n\u001b[0;32m   2105\u001b[0m     \u001b[39mself\u001b[39m\u001b[39m.\u001b[39mprocess_internal_commands()\n\u001b[1;32m-> 2106\u001b[0m     time\u001b[39m.\u001b[39;49msleep(\u001b[39m0.01\u001b[39;49m)\n\u001b[0;32m   2108\u001b[0m \u001b[39mself\u001b[39m\u001b[39m.\u001b[39mcancel_async_evaluation(get_current_thread_id(thread), \u001b[39mstr\u001b[39m(\u001b[39mid\u001b[39m(frame)))\n\u001b[0;32m   2110\u001b[0m \u001b[39m# process any stepping instructions\u001b[39;00m\n",
      "\u001b[1;31mKeyboardInterrupt\u001b[0m: "
     ]
    }
   ],
   "source": [
    "current_state = [choice([False, False, False, False, False, False, False, False, False, False]) for _ in range(NUM_SETS)]\n",
    "best_state = []\n",
    "new_state = []\n",
    "#print(\"SETS\", SETS, current_state, fitness(current_state), sep=\"\\n\")\n",
    "count_fitness = 0\n",
    "# Define the number of starting point -> Crtitic !!\n",
    "num_covered_critic_point = min(sum(SETS))   # Num of sub-sets that cover the less covered point -> point is easier to be critic!!\n",
    "critic_point = np.argmin(sum(SETS))     # The critic point\n",
    "state_that_cover_critic_point = [index for index, val in enumerate(SETS) if val[critic_point]]      # All the sub-sets that cover the critic_point\n",
    "num_sub_sets_for_coverage = int( NUM_POINTS/(DENSITY*100) )    #Starting from the average of set that should i need to cover all (sub-optima for sure)\n",
    "\n",
    "for i in state_that_cover_critic_point:     #Start the examinate with the set that cover a critic point\n",
    "    current_state[i] = not current_state[i]\n",
    "    step = 5\n",
    "\n",
    "    for t_max in range(num_sub_sets_for_coverage-2):      # AVG num of set needed\n",
    "        new_state = tweak(current_state)\n",
    "        current_state = new_state\n",
    "        # START from here !!\n",
    "\n",
    "    current_fitness = fitness(current_state)\n",
    "    print(current_fitness)\n",
    "\n",
    "    while step != 0:        # I try adaptation step after I reach the local maxima\n",
    "        if current_fitness[0] == NUM_POINTS:\n",
    "            step -= 1\n",
    "            new_state = tweak2(current_state)\n",
    "            new_fitness = fitness(new_state)\n",
    "            count_fitness += 1\n",
    "\n",
    "            if new_fitness > current_fitness:\n",
    "                current_state = new_state\n",
    "                current_fitness = new_fitness\n",
    "                print(current_fitness)\n",
    "        else:\n",
    "            new_state = tweak(current_state)\n",
    "            current_state = new_state\n",
    "            current_fitness = fitness(current_state)\n",
    "            count_fitness += 1\n",
    "    \n",
    "    best_state = current_state\n",
    "    best_fitness = current_fitness\n",
    "    num_sub_sets_for_coverage = np.abs(best_fitness[1])\n",
    "    current_state = [choice([False]) for _ in range(NUM_SETS)]\n"
   ]
  },
  {
   "cell_type": "code",
   "execution_count": 22,
   "id": "cc6a5d91",
   "metadata": {},
   "outputs": [
    {
     "data": {
      "text/plain": [
       "19983"
      ]
     },
     "execution_count": 22,
     "metadata": {},
     "output_type": "execute_result"
    }
   ],
   "source": [
    "count"
   ]
  }
 ],
 "metadata": {
  "kernelspec": {
   "display_name": "Python 3 (ipykernel)",
   "language": "python",
   "name": "python3"
  },
  "language_info": {
   "codemirror_mode": {
    "name": "ipython",
    "version": 3
   },
   "file_extension": ".py",
   "mimetype": "text/x-python",
   "name": "python",
   "nbconvert_exporter": "python",
   "pygments_lexer": "ipython3",
   "version": "3.12.0"
  }
 },
 "nbformat": 4,
 "nbformat_minor": 5
}
