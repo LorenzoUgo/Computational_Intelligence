{
 "cells": [
  {
   "cell_type": "markdown",
   "id": "185f9931-b384-4fdc-a5b2-eea785428bb8",
   "metadata": {},
   "source": [
    "Copyright **`(c)`** 2023 Giovanni Squillero `<giovanni.squillero@polito.it>`  \n",
    "[`https://github.com/squillero/computational-intelligence`](https://github.com/squillero/computational-intelligence)  \n",
    "Free for personal or classroom use; see [`LICENSE.md`](https://github.com/squillero/computational-intelligence/blob/master/LICENSE.md) for details.  "
   ]
  },
  {
   "cell_type": "code",
   "execution_count": 1,
   "id": "3ffe7245-e849-41d0-9698-5f0e0b83fee9",
   "metadata": {},
   "outputs": [],
   "source": [
    "from itertools import product\n",
    "from random import random, randint, shuffle, seed, choice\n",
    "import numpy as np\n",
    "from scipy import sparse\n",
    "from functools import reduce\n",
    "from copy import copy\n",
    "from collections import deque"
   ]
  },
  {
   "cell_type": "code",
   "execution_count": 2,
   "id": "6f03bd67-78a0-4d72-95b7-77a918727b91",
   "metadata": {},
   "outputs": [],
   "source": [
    "def make_set_covering_problem(num_points, num_sets, density):\n",
    "    \"\"\"Returns a sparse array where rows are sets and columns are the covered items\"\"\"\n",
    "    seed(num_points*2654435761+num_sets+density)\n",
    "    sets = sparse.lil_array((num_sets, num_points), dtype=bool)\n",
    "    for s, p in product(range(num_sets), range(num_points)):\n",
    "        if random() < density:\n",
    "            sets[s, p] = True\n",
    "    for p in range(num_points):\n",
    "        sets[randint(0, num_sets-1), p] = True\n",
    "    return sets"
   ]
  },
  {
   "cell_type": "markdown",
   "id": "82b0be37-21d9-492d-9a1d-cf0cdf0ddd76",
   "metadata": {},
   "source": [
    "# Halloween Challenge\n",
    "\n",
    "Find the best solution with the fewest calls to the fitness functions for:\n",
    "\n",
    "* `num_points = [100, 1_000, 5_000]`\n",
    "* `num_sets = num_points`\n",
    "* `density = [.3, .7]` "
   ]
  },
  {
   "cell_type": "code",
   "execution_count": 16,
   "id": "221ffdba-5d3d-48cc-bd08-45ccc9366ea6",
   "metadata": {},
   "outputs": [],
   "source": [
    "NUM_POINTS = 5000\n",
    "NUM_SETS = NUM_POINTS\n",
    "DENSITY = .3\n"
   ]
  },
  {
   "cell_type": "code",
   "execution_count": 17,
   "id": "6492337b-8429-472d-9c3e-c79c5b46da54",
   "metadata": {},
   "outputs": [],
   "source": [
    "x = make_set_covering_problem(NUM_POINTS, NUM_SETS, DENSITY)\n",
    "# print(\"Element at row=42 and column=42:\", x[42, 42])"
   ]
  },
  {
   "cell_type": "code",
   "execution_count": 18,
   "id": "6f1c6200",
   "metadata": {},
   "outputs": [],
   "source": [
    "SETS = x.toarray()"
   ]
  },
  {
   "cell_type": "code",
   "execution_count": 7,
   "metadata": {},
   "outputs": [
    {
     "ename": "NameError",
     "evalue": "name 'fitness' is not defined",
     "output_type": "error",
     "traceback": [
      "\u001b[1;31m---------------------------------------------------------------------------\u001b[0m",
      "\u001b[1;31mNameError\u001b[0m                                 Traceback (most recent call last)",
      "\u001b[1;32mc:\\Users\\Lorenzo Ugoccioni\\Documents\\PoliTo\\LM - II anno\\Computational Intelligence\\Coding\\Laboratory\\Halloween_Challenge\\Halloween.ipynb Cella 8\u001b[0m line \u001b[0;36m2\n\u001b[0;32m      <a href='vscode-notebook-cell:/c%3A/Users/Lorenzo%20Ugoccioni/Documents/PoliTo/LM%20-%20II%20anno/Computational%20Intelligence/Coding/Laboratory/Halloween_Challenge/Halloween.ipynb#X10sZmlsZQ%3D%3D?line=0'>1</a>\u001b[0m current_state \u001b[39m=\u001b[39m [choice([\u001b[39mFalse\u001b[39;00m, \u001b[39mFalse\u001b[39;00m, \u001b[39mFalse\u001b[39;00m, \u001b[39mFalse\u001b[39;00m, \u001b[39mFalse\u001b[39;00m, \u001b[39mFalse\u001b[39;00m, \u001b[39mFalse\u001b[39;00m, \u001b[39mFalse\u001b[39;00m, \u001b[39mFalse\u001b[39;00m, \u001b[39mFalse\u001b[39;00m, \u001b[39mFalse\u001b[39;00m, \u001b[39mFalse\u001b[39;00m, \u001b[39mFalse\u001b[39;00m, \u001b[39mFalse\u001b[39;00m, \u001b[39mFalse\u001b[39;00m, \u001b[39mFalse\u001b[39;00m, \u001b[39mFalse\u001b[39;00m, \u001b[39mFalse\u001b[39;00m, \u001b[39mFalse\u001b[39;00m, \u001b[39mFalse\u001b[39;00m, \u001b[39mFalse\u001b[39;00m, \u001b[39mFalse\u001b[39;00m, \u001b[39mFalse\u001b[39;00m, \u001b[39mFalse\u001b[39;00m, \u001b[39mFalse\u001b[39;00m, \u001b[39mFalse\u001b[39;00m, \u001b[39mFalse\u001b[39;00m, \u001b[39mFalse\u001b[39;00m, \u001b[39mFalse\u001b[39;00m, \u001b[39mFalse\u001b[39;00m, \u001b[39mFalse\u001b[39;00m, \u001b[39mFalse\u001b[39;00m,  \u001b[39mTrue\u001b[39;00m  , \u001b[39mFalse\u001b[39;00m, \u001b[39mFalse\u001b[39;00m, \u001b[39mFalse\u001b[39;00m, \u001b[39mFalse\u001b[39;00m, \u001b[39mFalse\u001b[39;00m, \u001b[39mFalse\u001b[39;00m, \u001b[39mFalse\u001b[39;00m, \u001b[39mFalse\u001b[39;00m,\u001b[39mFalse\u001b[39;00m, \u001b[39mFalse\u001b[39;00m, \u001b[39mFalse\u001b[39;00m, \u001b[39mFalse\u001b[39;00m, \u001b[39mFalse\u001b[39;00m, \u001b[39mFalse\u001b[39;00m, \u001b[39mFalse\u001b[39;00m, \u001b[39mFalse\u001b[39;00m,\u001b[39mFalse\u001b[39;00m, \u001b[39mFalse\u001b[39;00m, \u001b[39mFalse\u001b[39;00m, \u001b[39mFalse\u001b[39;00m, \u001b[39mFalse\u001b[39;00m, \u001b[39mFalse\u001b[39;00m, \u001b[39mFalse\u001b[39;00m, \u001b[39mFalse\u001b[39;00m,\u001b[39mFalse\u001b[39;00m, \u001b[39mFalse\u001b[39;00m, \u001b[39mFalse\u001b[39;00m, \u001b[39mFalse\u001b[39;00m, \u001b[39mFalse\u001b[39;00m, \u001b[39mFalse\u001b[39;00m, \u001b[39mFalse\u001b[39;00m, \u001b[39mFalse\u001b[39;00m, \u001b[39mFalse\u001b[39;00m, \u001b[39mFalse\u001b[39;00m, \u001b[39mFalse\u001b[39;00m, \u001b[39mFalse\u001b[39;00m, \u001b[39mFalse\u001b[39;00m, \u001b[39mFalse\u001b[39;00m, \u001b[39mFalse\u001b[39;00m, \u001b[39mFalse\u001b[39;00m, \u001b[39mFalse\u001b[39;00m, \u001b[39mFalse\u001b[39;00m, \u001b[39mFalse\u001b[39;00m, \u001b[39mFalse\u001b[39;00m, \u001b[39mFalse\u001b[39;00m, \u001b[39mFalse\u001b[39;00m, \u001b[39mFalse\u001b[39;00m, \u001b[39mFalse\u001b[39;00m, \u001b[39mFalse\u001b[39;00m, \u001b[39mFalse\u001b[39;00m, \u001b[39mFalse\u001b[39;00m, \u001b[39mFalse\u001b[39;00m, \u001b[39mFalse\u001b[39;00m, \u001b[39mFalse\u001b[39;00m, \u001b[39mFalse\u001b[39;00m, \u001b[39mFalse\u001b[39;00m, \u001b[39mFalse\u001b[39;00m, \u001b[39mFalse\u001b[39;00m, \u001b[39mFalse\u001b[39;00m, \u001b[39mFalse\u001b[39;00m, \u001b[39mFalse\u001b[39;00m, \u001b[39mFalse\u001b[39;00m, \u001b[39mFalse\u001b[39;00m, \u001b[39mFalse\u001b[39;00m, \u001b[39mFalse\u001b[39;00m, \u001b[39mFalse\u001b[39;00m, \u001b[39mFalse\u001b[39;00m, \u001b[39mFalse\u001b[39;00m, \u001b[39mFalse\u001b[39;00m, \u001b[39mFalse\u001b[39;00m, \u001b[39mFalse\u001b[39;00m, \u001b[39mFalse\u001b[39;00m, \u001b[39mFalse\u001b[39;00m, \u001b[39mFalse\u001b[39;00m, \u001b[39mFalse\u001b[39;00m, \u001b[39mFalse\u001b[39;00m, \u001b[39mFalse\u001b[39;00m, \u001b[39mFalse\u001b[39;00m, \u001b[39mFalse\u001b[39;00m, \u001b[39mFalse\u001b[39;00m, \u001b[39mFalse\u001b[39;00m, \u001b[39mFalse\u001b[39;00m, \u001b[39mFalse\u001b[39;00m, \u001b[39mFalse\u001b[39;00m, \u001b[39mFalse\u001b[39;00m, \u001b[39mFalse\u001b[39;00m, \u001b[39mFalse\u001b[39;00m, \u001b[39mFalse\u001b[39;00m, \u001b[39mFalse\u001b[39;00m, \u001b[39mFalse\u001b[39;00m, \u001b[39mFalse\u001b[39;00m, \u001b[39mFalse\u001b[39;00m, \u001b[39mFalse\u001b[39;00m, \u001b[39mFalse\u001b[39;00m, \u001b[39mFalse\u001b[39;00m, \u001b[39mFalse\u001b[39;00m,\u001b[39mFalse\u001b[39;00m, \u001b[39mFalse\u001b[39;00m, \u001b[39mFalse\u001b[39;00m, \u001b[39mFalse\u001b[39;00m, \u001b[39mFalse\u001b[39;00m, \u001b[39mFalse\u001b[39;00m, \u001b[39mFalse\u001b[39;00m, \u001b[39mFalse\u001b[39;00m, \u001b[39mFalse\u001b[39;00m, \u001b[39mFalse\u001b[39;00m, \u001b[39mFalse\u001b[39;00m, \u001b[39mFalse\u001b[39;00m, \u001b[39mFalse\u001b[39;00m, \u001b[39mFalse\u001b[39;00m, \u001b[39mFalse\u001b[39;00m, \u001b[39mFalse\u001b[39;00m, \u001b[39mFalse\u001b[39;00m, \u001b[39mFalse\u001b[39;00m, \u001b[39mFalse\u001b[39;00m, \u001b[39mFalse\u001b[39;00m, \u001b[39mFalse\u001b[39;00m, \u001b[39mFalse\u001b[39;00m, \u001b[39mFalse\u001b[39;00m, \u001b[39mFalse\u001b[39;00m, \u001b[39mFalse\u001b[39;00m, \u001b[39mFalse\u001b[39;00m, \u001b[39mFalse\u001b[39;00m, \u001b[39mFalse\u001b[39;00m, \u001b[39mFalse\u001b[39;00m, \u001b[39mFalse\u001b[39;00m, \u001b[39mFalse\u001b[39;00m, \u001b[39mFalse\u001b[39;00m, \u001b[39mFalse\u001b[39;00m, \u001b[39mFalse\u001b[39;00m, \u001b[39mFalse\u001b[39;00m, \u001b[39mFalse\u001b[39;00m, \u001b[39mFalse\u001b[39;00m, \u001b[39mFalse\u001b[39;00m, \u001b[39mFalse\u001b[39;00m, \u001b[39mFalse\u001b[39;00m, \u001b[39mFalse\u001b[39;00m, \u001b[39mFalse\u001b[39;00m, \u001b[39mFalse\u001b[39;00m, \u001b[39mFalse\u001b[39;00m, \u001b[39mFalse\u001b[39;00m, \u001b[39mFalse\u001b[39;00m, \u001b[39mFalse\u001b[39;00m, \u001b[39mFalse\u001b[39;00m, \u001b[39mFalse\u001b[39;00m, \u001b[39mFalse\u001b[39;00m, \u001b[39mFalse\u001b[39;00m, \u001b[39mFalse\u001b[39;00m, \u001b[39mFalse\u001b[39;00m]) \u001b[39mfor\u001b[39;00m _ \u001b[39min\u001b[39;00m \u001b[39mrange\u001b[39m(NUM_SETS)]\n\u001b[1;32m----> <a href='vscode-notebook-cell:/c%3A/Users/Lorenzo%20Ugoccioni/Documents/PoliTo/LM%20-%20II%20anno/Computational%20Intelligence/Coding/Laboratory/Halloween_Challenge/Halloween.ipynb#X10sZmlsZQ%3D%3D?line=1'>2</a>\u001b[0m \u001b[39mprint\u001b[39m(\u001b[39m\"\u001b[39m\u001b[39mcurrent state\u001b[39m\u001b[39m\"\u001b[39m, current_state, fitness(current_state), sep\u001b[39m=\u001b[39m\u001b[39m\"\u001b[39m\u001b[39m\\n\u001b[39;00m\u001b[39m\"\u001b[39m)\n\u001b[0;32m      <a href='vscode-notebook-cell:/c%3A/Users/Lorenzo%20Ugoccioni/Documents/PoliTo/LM%20-%20II%20anno/Computational%20Intelligence/Coding/Laboratory/Halloween_Challenge/Halloween.ipynb#X10sZmlsZQ%3D%3D?line=3'>4</a>\u001b[0m \u001b[39mprint\u001b[39m(reduce(np\u001b[39m.\u001b[39mlogical_and, reduce(np\u001b[39m.\u001b[39mlogical_or,\n\u001b[0;32m      <a href='vscode-notebook-cell:/c%3A/Users/Lorenzo%20Ugoccioni/Documents/PoliTo/LM%20-%20II%20anno/Computational%20Intelligence/Coding/Laboratory/Halloween_Challenge/Halloween.ipynb#X10sZmlsZQ%3D%3D?line=4'>5</a>\u001b[0m        [SETS[i] \u001b[39mfor\u001b[39;00m i, t \u001b[39min\u001b[39;00m \u001b[39menumerate\u001b[39m(current_state) \u001b[39mif\u001b[39;00m t],\n\u001b[0;32m      <a href='vscode-notebook-cell:/c%3A/Users/Lorenzo%20Ugoccioni/Documents/PoliTo/LM%20-%20II%20anno/Computational%20Intelligence/Coding/Laboratory/Halloween_Challenge/Halloween.ipynb#X10sZmlsZQ%3D%3D?line=5'>6</a>\u001b[0m        np\u001b[39m.\u001b[39marray([\u001b[39mFalse\u001b[39;00m \u001b[39mfor\u001b[39;00m _ \u001b[39min\u001b[39;00m \u001b[39mrange\u001b[39m(NUM_POINTS)])\n\u001b[0;32m      <a href='vscode-notebook-cell:/c%3A/Users/Lorenzo%20Ugoccioni/Documents/PoliTo/LM%20-%20II%20anno/Computational%20Intelligence/Coding/Laboratory/Halloween_Challenge/Halloween.ipynb#X10sZmlsZQ%3D%3D?line=6'>7</a>\u001b[0m        ), \u001b[39mTrue\u001b[39;00m))\n",
      "\u001b[1;31mNameError\u001b[0m: name 'fitness' is not defined"
     ]
    }
   ],
   "source": [
    "current_state = [choice([False, False, False, False, False, False, False, False, False, False, False, False, False, False, False, False, False, False, False, False, False, False, False, False, False, False, False, False, False, False, False, False,  True  , False, False, False, False, False, False, False, False,False, False, False, False, False, False, False, False,False, False, False, False, False, False, False, False,False, False, False, False, False, False, False, False, False, False, False, False, False, False, False, False, False, False, False, False, False, False, False, False, False, False, False, False, False, False, False, False, False, False, False, False, False, False, False, False, False, False, False, False, False, False, False, False, False, False, False, False, False, False, False, False, False, False, False, False, False, False, False, False, False, False, False, False, False, False, False, False,False, False, False, False, False, False, False, False, False, False, False, False, False, False, False, False, False, False, False, False, False, False, False, False, False, False, False, False, False, False, False, False, False, False, False, False, False, False, False, False, False, False, False, False, False, False, False, False, False, False, False, False, False]) for _ in range(NUM_SETS)]\n",
    "print(\"current state\", current_state, fitness(current_state), sep=\"\\n\")\n",
    "\n",
    "print(reduce(np.logical_and, reduce(np.logical_or,\n",
    "       [SETS[i] for i, t in enumerate(current_state) if t],\n",
    "       np.array([False for _ in range(NUM_POINTS)])\n",
    "       ), True))"
   ]
  },
  {
   "cell_type": "code",
   "execution_count": 10,
   "metadata": {},
   "outputs": [
    {
     "name": "stdout",
     "output_type": "stream",
     "text": [
      "649 860 [0, 1, 6, 8, 10, 11, 12, 13, 14, 15, 17, 18, 19, 24, 26, 27, 28, 29, 30, 31, 32, 34, 36, 37, 40, 42, 43, 46, 47, 49, 50, 51, 53, 54, 58, 61, 62, 63, 64, 65, 66, 67, 68, 69, 70, 71, 72, 73, 74, 76, 78, 79, 80, 82, 83, 84, 85, 86, 87, 92, 93, 94, 95, 97, 98, 99, 100, 101, 103, 105, 108, 110, 111, 112, 113, 115, 116, 117, 118, 119, 120, 121, 123, 125, 127, 128, 129, 130, 133, 137, 138, 141, 142, 144, 146, 147, 149, 150, 151, 153, 154, 156, 157, 159, 161, 163, 164, 165, 169, 173, 174, 175, 176, 177, 178, 179, 181, 183, 185, 187, 189, 190, 191, 192, 193, 194, 195, 196, 198, 199, 200, 201, 202, 204, 206, 207, 210, 211, 212, 217, 218, 219, 220, 223, 225, 226, 228, 230, 231, 234, 235, 236, 237, 238, 239, 242, 243, 245, 246, 247, 249, 250, 251, 254, 255, 256, 258, 259, 260, 261, 262, 267, 268, 269, 270, 273, 274, 276, 278, 280, 281, 282, 284, 286, 287, 289, 290, 291, 292, 293, 296, 298, 299, 300, 301, 302, 303, 304, 305, 307, 308, 309, 310, 311, 312, 313, 314, 315, 316, 320, 321, 322, 323, 324, 326, 328, 329, 330, 332, 333, 334, 335, 337, 338, 340, 341, 343, 344, 345, 346, 347, 348, 349, 350, 353, 354, 357, 358, 360, 361, 362, 363, 364, 365, 368, 369, 370, 371, 373, 374, 375, 376, 377, 379, 380, 381, 382, 383, 385, 386, 387, 388, 390, 391, 392, 393, 394, 396, 398, 399, 400, 402, 403, 404, 406, 407, 408, 409, 410, 412, 414, 415, 416, 417, 419, 421, 423, 424, 425, 428, 431, 434, 435, 436, 437, 438, 439, 440, 441, 442, 443, 444, 445, 446, 448, 450, 451, 452, 455, 458, 460, 464, 465, 466, 467, 468, 471, 472, 473, 475, 478, 479, 480, 481, 482, 483, 484, 486, 488, 490, 491, 492, 494, 495, 496, 497, 498, 499, 500, 502, 503, 504, 505, 506, 507, 508, 511, 512, 513, 514, 515, 516, 517, 519, 523, 524, 526, 528, 529, 530, 533, 535, 537, 540, 541, 542, 543, 544, 547, 548, 549, 551, 553, 556, 557, 559, 560, 562, 566, 569, 570, 572, 576, 580, 582, 584, 585, 586, 587, 588, 590, 591, 592, 593, 594, 598, 599, 600, 601, 602, 603, 606, 607, 608, 609, 610, 611, 613, 614, 616, 618, 619, 620, 621, 622, 623, 624, 626, 629, 631, 632, 634, 635, 636, 637, 638, 640, 641, 642, 643, 644, 646, 647, 651, 652, 653, 654, 655, 656, 657, 659, 660, 661, 662, 665, 666, 671, 672, 674, 675, 676, 677, 679, 680, 681, 683, 684, 685, 686, 687, 689, 690, 691, 693, 694, 695, 696, 697, 699, 701, 703, 704, 706, 708, 709, 714, 715, 716, 717, 720, 722, 723, 727, 729, 731, 733, 736, 737, 738, 739, 741, 742, 745, 747, 748, 749, 752, 753, 754, 755, 756, 758, 759, 760, 763, 766, 768, 769, 770, 771, 772, 773, 774, 775, 776, 777, 778, 779, 782, 787, 788, 789, 790, 794, 795, 796, 797, 801, 804, 806, 808, 811, 813, 815, 816, 819, 821, 823, 824, 825, 826, 827, 828, 829, 830, 831, 832, 833, 834, 835, 836, 837, 838, 839, 840, 842, 843, 844, 846, 848, 853, 854, 855, 857, 858, 859, 865, 867, 868, 871, 874, 875, 876, 878, 880, 881, 882, 885, 886, 887, 889, 891, 892, 895, 896, 898, 900, 901, 902, 903, 904, 907, 908, 911, 912, 913, 916, 917, 918, 920, 921, 922, 923, 926, 928, 929, 930, 932, 933, 934, 935, 936, 937, 938, 939, 940, 943, 945, 950, 951, 954, 957, 959, 962, 963, 966, 967, 968, 970, 971, 972, 973, 975, 976, 977, 978, 980, 981, 982, 986, 987, 989, 990, 991, 993, 994, 995, 997, 999]\n",
      "[414, 760, 666, 516, 776, 825, 832, 736, 101, 119, 202, 504, 309, 747, 278, 556, 560, 831, 835, 995, 207, 379, 616, 690, 161, 305, 369, 404, 211, 243, 329, 586, 631, 635, 643, 685, 693, 708, 720, 11, 198, 424, 431, 495, 562, 687, 773, 916, 999, 349, 638, 777, 64, 191, 192, 261, 291, 292, 370, 709, 932, 994, 117, 157, 360, 524, 697, 887, 892, 903, 904, 189, 602, 715, 727, 871, 891, 900, 978, 991, 8, 18, 282, 312, 382, 438, 636, 821, 886, 204, 269, 335, 390, 486, 553, 593, 619, 646, 177, 287, 345, 391, 523, 675, 811, 896, 975, 976, 34, 200, 308, 444, 464, 43, 65, 83, 86, 95, 190, 387, 481, 502, 651, 880, 954, 69, 121, 194, 217, 219, 239, 258, 304, 348, 353, 358, 361, 452, 624, 788, 795, 806, 853, 908, 195, 218, 259, 380, 435, 483, 535, 634, 671, 796, 842, 989, 61, 123, 236, 293, 321, 346, 363, 376, 399, 541, 587, 594, 694, 756, 816, 837, 940, 967, 78, 98, 237, 296, 396, 410, 423, 498, 598, 610, 641, 652, 876, 933, 14, 142, 144, 154, 307, 310, 371, 416, 440, 507, 677, 703, 706, 739, 758, 826, 885, 939, 977, 980, 82, 116, 238, 281, 478, 503, 514, 642, 680, 738, 755, 833, 848, 858, 937, 971, 982, 97, 129, 187, 247, 644, 665, 686, 754, 763, 808, 834, 917, 938, 968, 12, 103, 163, 212, 249, 328, 332, 354, 383, 473, 506, 623, 695, 722, 769, 867, 19, 62, 74, 127, 231, 313, 364, 417, 480, 484, 559, 570, 576, 584, 614, 653, 729, 828, 844, 898, 935, 943, 341, 365, 375, 398, 446, 451, 496, 529, 547, 592, 618, 622, 661, 742, 997, 36, 87, 141, 173, 185, 298, 299, 326, 368, 415, 548, 585, 613, 672, 701, 766, 819, 830, 846, 957, 959, 987, 15, 210, 250, 284, 322, 381, 479, 492, 499, 543, 544, 626, 696, 699, 823, 829, 836, 865, 929, 112, 175, 235, 302, 303, 330, 407, 640, 657, 772, 804, 843, 878, 902, 912, 936, 6, 26, 71, 108, 150, 174, 179, 246, 357, 406, 445, 540, 551, 566, 662, 723, 759, 794, 926, 963, 1, 27, 28, 53, 66, 70, 85, 153, 169, 228, 289, 362, 428, 460, 472, 557, 603, 621, 629, 691, 815, 857, 0, 10, 199, 242, 256, 300, 314, 343, 442, 607, 655, 716, 789, 824, 839, 874, 889, 923, 29, 46, 76, 84, 120, 133, 138, 245, 254, 268, 323, 388, 393, 403, 466, 490, 542, 590, 599, 656, 659, 752, 771, 972, 993, 72, 149, 165, 183, 196, 230, 373, 377, 408, 443, 475, 505, 620, 647, 868, 54, 118, 125, 270, 400, 458, 468, 515, 717, 741, 838, 147, 201, 333, 344, 441, 676, 704, 787, 881, 950, 49, 115, 128, 130, 181, 193, 439, 637, 681, 901, 981, 30, 58, 111, 374, 533, 654, 714, 774, 797, 922, 13, 68, 146, 223, 311, 334, 450, 500, 582, 753, 875, 50, 93, 99, 206, 409, 419, 471, 508, 513, 517, 549, 782, 854, 156, 226, 320, 340, 425, 448, 512, 591, 606, 660, 749, 779, 813, 386, 494, 745, 827, 921, 928, 930, 962, 17, 24, 92, 105, 151, 260, 434, 482, 497, 601, 632, 737, 913, 920, 100, 137, 220, 234, 251, 385, 684, 689, 770, 778, 945, 970, 990, 37, 67, 267, 324, 337, 491, 572, 611, 790, 911, 986, 31, 47, 51, 176, 338, 347, 511, 530, 608, 683, 748, 768, 840, 934, 80, 600, 775, 94, 262, 280, 286, 421, 437, 32, 63, 79, 290, 733, 951, 159, 394, 488, 537, 801, 855, 859, 895, 110, 113, 255, 276, 392, 412, 164, 455, 528, 882, 73, 316, 402, 526, 315, 569, 674, 966, 973, 178, 301, 350, 918, 580, 588, 731, 465, 519, 273, 436, 467, 679, 907, 609, 40, 42, 225, 274]\n"
     ]
    }
   ],
   "source": [
    "num_covered_critic_point = min(sum(SETS))\n",
    "critic_point = np.argmin(sum(SETS))\n",
    "state_that_cover_critic_point = [index for index, val in enumerate(SETS) if val[critic_point]]\n",
    "count=0\n",
    "print(num_covered_critic_point, critic_point, state_that_cover_critic_point)\n",
    "\n",
    "state_that_cover_critic_point_sorted = sorted(state_that_cover_critic_point, key=lambda idx: sum(SETS[idx]), reverse=True)\n",
    "print(state_that_cover_critic_point_sorted)\n"
   ]
  },
  {
   "cell_type": "code",
   "execution_count": 19,
   "id": "69a53be2",
   "metadata": {},
   "outputs": [],
   "source": [
    "COUNT_FITNESS = 0\n",
    "def fitness(state):\n",
    "    global COUNT_FITNESS\n",
    "    COUNT_FITNESS += 1\n",
    "    cost = sum(state)\n",
    "    valid = np.sum(\n",
    "        reduce(\n",
    "            np.logical_or,\n",
    "            [SETS[i] for i, t in enumerate(state) if t],\n",
    "            np.array([False for _ in range(NUM_POINTS)]),\n",
    "        )\n",
    "    )\n",
    "    return valid, -cost"
   ]
  },
  {
   "cell_type": "code",
   "execution_count": 21,
   "id": "51050f04",
   "metadata": {},
   "outputs": [],
   "source": [
    "def tweak(state):\n",
    "    new_state = copy(state)\n",
    "    index = randint(0, NUM_SETS - 1)\n",
    "    new_state[index] = not new_state[index]\n",
    "    return new_state\n",
    "\n",
    "def tweak2(state):\n",
    "    new_state = copy(state)\n",
    "    num_state_to_change = randint(1, sum(state))\n",
    "    state_to_change = [index for index, value in enumerate(state) if value]\n",
    "    \n",
    "    index = choice(state_to_change)\n",
    "    state_to_change.remove(index)\n",
    "    new_state[index] = not new_state[index]\n",
    "\n",
    "    for _ in range(num_state_to_change-1):\n",
    "        index = choice(state_to_change)\n",
    "        state_to_change.remove(index)\n",
    "        new_state[index] = not new_state[index]\n",
    "\n",
    "        new_index = randint(0, NUM_SETS - 1)\n",
    "        new_state[new_index] = not new_state[new_index]\n",
    "        \n",
    "    return new_state\n",
    "\n",
    "def perturb(state, round):\n",
    "    new_state = copy(state)\n",
    "    num_state_to_change = randint(1, sum(state))\n",
    "    state_to_change = [index for index, value in enumerate(state) if value]\n",
    "    \n",
    "    index = choice(state_to_change)\n",
    "    state_to_change.remove(index)\n",
    "    new_state[index] = not new_state[index]\n",
    "\n",
    "    for _ in range(num_state_to_change-round):\n",
    "        index = choice(state_to_change)\n",
    "        state_to_change.remove(index)\n",
    "        new_state[index] = not new_state[index]\n",
    "\n",
    "        new_index = randint(0, NUM_SETS - 1)\n",
    "        new_state[new_index] = not new_state[new_index]\n",
    "        \n",
    "    return new_state"
   ]
  },
  {
   "cell_type": "markdown",
   "metadata": {},
   "source": [
    "## Halloween challenge - Prof version"
   ]
  },
  {
   "cell_type": "code",
   "execution_count": null,
   "id": "c94e5241",
   "metadata": {},
   "outputs": [],
   "source": [
    "current_state = [choice([False, False, False, False, False, False, False, False, False, False]) for _ in range(NUM_SETS)]\n",
    "#print(\"SETS\", SETS, current_state, fitness(current_state), sep=\"\\n\")\n",
    "count = 0\n",
    "for step in range(int( NUM_POINTS/(DENSITY*100) )):\n",
    "    new_state = tweak(current_state)\n",
    "    count += 2\n",
    "    if fitness(new_state) >= fitness(current_state):\n",
    "        current_state = new_state\n",
    "        print(fitness(current_state))\n",
    "        count += 1"
   ]
  },
  {
   "cell_type": "markdown",
   "metadata": {},
   "source": [
    "## Halloween Challenge - New Tweak + with different approach"
   ]
  },
  {
   "cell_type": "code",
   "execution_count": 219,
   "id": "b86e42dd",
   "metadata": {},
   "outputs": [
    {
     "name": "stdout",
     "output_type": "stream",
     "text": [
      "(5000, -29)\n",
      "(5000, -28)\n",
      "(5000, -27)\n",
      "(5000, -26)\n",
      "(5000, -25)\n",
      "(5000, -24)\n",
      "(5000, -23)\n",
      "(5000, -22)\n"
     ]
    }
   ],
   "source": [
    "current_state = [choice([False, False, False, False, False, False, False, False, False, False]) for _ in range(NUM_SETS)]\n",
    "#print(\"SETS\", SETS, current_state, fitness(current_state), sep=\"\\n\")\n",
    "count = 0\n",
    "for step in range(int( NUM_POINTS/(DENSITY*100) )):       #-> THIS IS THE MAIN PROBLEM !!! -> HAVE TO BE AUTOMATIC\n",
    "    #print(step)\n",
    "    current_fitness = fitness(current_state)\n",
    "    count += 1\n",
    "    if current_fitness[0] == NUM_POINTS:\n",
    "        new_state = tweak2(current_state)\n",
    "        new_fit = fitness(new_state)\n",
    "        count += 1\n",
    "        if new_fit > current_fitness:\n",
    "            current_state = new_state\n",
    "            print(fitness(current_state))\n",
    "            count += 1\n",
    "    else:\n",
    "        new_state = tweak(current_state)\n",
    "        current_state = new_state\n",
    "    #print(\"current fitness->\",current_fitness)"
   ]
  },
  {
   "cell_type": "markdown",
   "metadata": {},
   "source": [
    "## Halloween Challenge - Hard slection as starting point the sets that cover the lowest covered point (crescent order)"
   ]
  },
  {
   "cell_type": "code",
   "execution_count": null,
   "metadata": {},
   "outputs": [],
   "source": [
    "current_state = [choice([False, False, False, False, False, False, False, False, False, False]) for _ in range(NUM_SETS)]\n",
    "best_state = []\n",
    "best_fitness = (NUM_POINTS, -NUM_SETS)\n",
    "new_state = []\n",
    "\n",
    "# Define the number of starting point -> Crtitic !!\n",
    "num_covered_critic_point = min(sum(SETS))   # Num of sub-sets that cover the less covered point -> point is easier to be critic!!\n",
    "critic_point = np.argmin(sum(SETS))     # The critic point\n",
    "state_that_cover_critic_point = [index for index, val in enumerate(SETS) if val[critic_point]]      # All the sub-sets that cover the critic_point\n",
    "state_that_cover_critic_point_sorted = sorted(state_that_cover_critic_point, key=lambda idx: sum(SETS[idx]), reverse=True)\n",
    "num_sub_sets_for_coverage = int( NUM_POINTS/(DENSITY*100) )    #Starting, to cover all (sub-optima for sure)\n",
    "\n",
    "\n",
    "for i in state_that_cover_critic_point:     #Start the examinate with the set that cover a critic point\n",
    "    current_state[i] = not current_state[i]\n",
    "    step = 3\n",
    "\n",
    "    for t_max in range(num_sub_sets_for_coverage):      # Starting num of set needed\n",
    "        new_state = tweak(current_state)\n",
    "        current_state = new_state \n",
    "        # START from here !!\n",
    "\n",
    "    current_fitness = fitness(current_state)\n",
    "    print(current_fitness)\n",
    "\n",
    "    while step != 0 and current_fitness[0]==NUM_POINTS:        # I try adaptation step after I reach the local maxima\n",
    "\n",
    "        if current_fitness[0] == NUM_POINTS:\n",
    "            step -= 1\n",
    "            new_state = tweak2(current_state)\n",
    "            new_fitness = fitness(new_state)\n",
    "            if new_fitness > current_fitness:\n",
    "                print(new_fitness)\n",
    "        else:\n",
    "            new_state = tweak(current_state)\n",
    "            new_fitness = fitness(new_state)\n",
    "            current_state = new_state\n",
    "\n",
    "        current_state = new_state\n",
    "        current_fitness = new_fitness\n",
    "    \n",
    "    if current_fitness > best_fitness:\n",
    "        best_state = current_state\n",
    "        best_fitness = current_fitness\n",
    "    num_sub_sets_for_coverage = np.abs(best_fitness[1])\n",
    "    current_state = [choice([False]) for _ in range(NUM_SETS)]\n"
   ]
  },
  {
   "cell_type": "markdown",
   "metadata": {},
   "source": [
    "## Halloween Clallenge - Just Perturb a solution that is considered local optima for at max 5 iteration"
   ]
  },
  {
   "cell_type": "code",
   "execution_count": 22,
   "metadata": {},
   "outputs": [
    {
     "name": "stdout",
     "output_type": "stream",
     "text": [
      "(5000, -27)\n",
      "(5000, -26)\n",
      "(5000, -25)\n",
      "(5000, -24)\n",
      "(5000, -23)\n",
      "(5000, -22)\n",
      "(5000, -21)\n",
      "(5000, -20)\n",
      "(5000, -19)\n"
     ]
    }
   ],
   "source": [
    "current_state = [choice([False, False, False, False, False, False, False, False, False, False]) for _ in range(NUM_SETS)]\n",
    "new_state =[]\n",
    "best_state = []\n",
    "best_fitness = (NUM_POINTS, -NUM_SETS)\n",
    "\n",
    "count = 0\n",
    "\n",
    "for step in range(int( NUM_POINTS/(DENSITY*100) )):\n",
    "    round = 5\n",
    "    current_fitness = fitness(current_state)\n",
    "    while round != 0:\n",
    "        if current_fitness[0] == NUM_POINTS:\n",
    "            new_state = perturb(current_state, round)\n",
    "            new_fitness = fitness(new_state)\n",
    "            if new_fitness > current_fitness:\n",
    "                print(new_fitness)\n",
    "                current_state = new_state\n",
    "                current_fitness = new_fitness\n",
    "            round -= 1\n",
    "        else:\n",
    "            new_state = tweak(current_state)\n",
    "            new_fitness = fitness(new_state)\n",
    "            current_state = new_state\n",
    "            current_fitness = new_fitness\n",
    "    \n",
    "    best_fitness = current_fitness\n",
    "    best_state = current_state\n"
   ]
  },
  {
   "cell_type": "markdown",
   "metadata": {},
   "source": [
    "## Retain the result"
   ]
  },
  {
   "cell_type": "code",
   "execution_count": null,
   "metadata": {},
   "outputs": [],
   "source": [
    "best_state"
   ]
  },
  {
   "cell_type": "code",
   "execution_count": 23,
   "id": "cc6a5d91",
   "metadata": {},
   "outputs": [
    {
     "data": {
      "text/plain": [
       "(5000, -19)"
      ]
     },
     "execution_count": 23,
     "metadata": {},
     "output_type": "execute_result"
    }
   ],
   "source": [
    "best_fitness"
   ]
  },
  {
   "cell_type": "code",
   "execution_count": 24,
   "metadata": {},
   "outputs": [
    {
     "data": {
      "text/plain": [
       "1026"
      ]
     },
     "execution_count": 24,
     "metadata": {},
     "output_type": "execute_result"
    }
   ],
   "source": [
    "COUNT_FITNESS"
   ]
  }
 ],
 "metadata": {
  "kernelspec": {
   "display_name": "Python 3 (ipykernel)",
   "language": "python",
   "name": "python3"
  },
  "language_info": {
   "codemirror_mode": {
    "name": "ipython",
    "version": 3
   },
   "file_extension": ".py",
   "mimetype": "text/x-python",
   "name": "python",
   "nbconvert_exporter": "python",
   "pygments_lexer": "ipython3",
   "version": "3.12.0"
  }
 },
 "nbformat": 4,
 "nbformat_minor": 5
}
