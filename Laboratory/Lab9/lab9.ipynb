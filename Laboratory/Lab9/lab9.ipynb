{
 "cells": [
  {
   "cell_type": "markdown",
   "metadata": {},
   "source": [
    "Copyright **`(c)`** 2023 Giovanni Squillero `<giovanni.squillero@polito.it>`  \n",
    "[`https://github.com/squillero/computational-intelligence`](https://github.com/squillero/computational-intelligence)  \n",
    "Free for personal or classroom use; see [`LICENSE.md`](https://github.com/squillero/computational-intelligence/blob/master/LICENSE.md) for details.  "
   ]
  },
  {
   "cell_type": "markdown",
   "metadata": {},
   "source": [
    "# LAB9\n",
    "\n",
    "Write a local-search algorithm (eg. an EA) able to solve the *Problem* instances 1, 2, 5, and 10 on a 1000-loci genomes, using a minimum number of fitness calls. That's all.\n",
    "\n",
    "### Deadlines:\n",
    "\n",
    "* Submission: Sunday, December 3 ([CET](https://www.timeanddate.com/time/zones/cet))\n",
    "* Reviews: Sunday, December 10 ([CET](https://www.timeanddate.com/time/zones/cet))\n",
    "\n",
    "Notes:\n",
    "\n",
    "* Reviews will be assigned  on Monday, December 4\n",
    "* You need to commit in order to be selected as a reviewer (ie. better to commit an empty work than not to commit)"
   ]
  },
  {
   "cell_type": "code",
   "execution_count": 37,
   "metadata": {},
   "outputs": [],
   "source": [
    "from random import choices, randint\n",
    "import numpy as np\n",
    "import copy\n",
    "\n",
    "import lab9_lib"
   ]
  },
  {
   "cell_type": "code",
   "execution_count": null,
   "metadata": {},
   "outputs": [],
   "source": [
    "fitness = lab9_lib.make_problem(1)\n",
    "for n in range(10):     #Determina il numero di Fitness call\n",
    "    ind = choices([0, 1], k=1000)     #genoma casuale di 50 elementi\n",
    "    print(f\"{''.join(str(g) for g in ind)}: {fitness(ind):.2%}\")\n",
    "\n",
    "print(fitness.calls)"
   ]
  },
  {
   "cell_type": "markdown",
   "metadata": {},
   "source": [
    "# Local Search Algorithm"
   ]
  },
  {
   "cell_type": "code",
   "execution_count": 34,
   "metadata": {},
   "outputs": [],
   "source": [
    "# GLOBAL PARAMETER #\n",
    "NUM_LOCI = 1000\n",
    "\n",
    "POPULATION = 10\n",
    "NEW_OFFSPRING = 30\n",
    "TOURNAMENT_SIZE = 2\n",
    "MUTATION_PROBABILITY = .15\n",
    "\n",
    "# . . . . . . #"
   ]
  },
  {
   "cell_type": "markdown",
   "metadata": {},
   "source": [
    "### Mutation Techniques"
   ]
  },
  {
   "cell_type": "code",
   "execution_count": null,
   "metadata": {},
   "outputs": [],
   "source": [
    "def mutation1(ind: fitness) -> fitness:\n",
    "    offspring = copy(ind)\n",
    "    pos = randint(0, NUM_LOCI-1)\n",
    "    offspring.genotype[pos] = not offspring.genotype[pos]\n",
    "    offspring.fitness = None\n",
    "    return offspring\n",
    "\n",
    "def mutation2(ind: fitness) -> fitness:\n",
    "    offspring = copy(ind)\n",
    "    pos = randint(0, NUM_LOCI-1)\n",
    "    offspring.genotype[pos] = not offspring.genotype[pos]\n",
    "    offspring.fitness = None\n",
    "    return offspring\n",
    "\n",
    "def mutation3(ind: fitness) -> fitness:\n",
    "    offspring = copy(ind)\n",
    "    pos = randint(0, NUM_LOCI-1)\n",
    "    offspring.genotype[pos] = not offspring.genotype[pos]\n",
    "    offspring.fitness = None\n",
    "    return offspring\n",
    "\n",
    "def mutation4(ind: fitness) -> fitness:\n",
    "    offspring = copy(ind)\n",
    "    pos = randint(0, NUM_LOCI-1)\n",
    "    offspring.genotype[pos] = not offspring.genotype[pos]\n",
    "    offspring.fitness = None\n",
    "    return offspring"
   ]
  },
  {
   "cell_type": "markdown",
   "metadata": {},
   "source": [
    "### Recombination Techniques"
   ]
  },
  {
   "cell_type": "code",
   "execution_count": null,
   "metadata": {},
   "outputs": [],
   "source": [
    "def one_cut_crossover(ind1: fitness, ind2: fitness) -> fitness:\n",
    "    cut_point = randint(0, NUM_LOCI-1)\n",
    "    #offspring = (fitness = None,\n",
    "    #                       genotype= ind1.genotype[:cut_point]+ind2.genotype[cut_point:])\n",
    "    assert len(offspring.genotype) == NUM_LOCI\n",
    "    return offspring\n",
    "\n"
   ]
  },
  {
   "cell_type": "markdown",
   "metadata": {},
   "source": [
    "### Survival Selection"
   ]
  },
  {
   "cell_type": "code",
   "execution_count": null,
   "metadata": {},
   "outputs": [],
   "source": []
  },
  {
   "cell_type": "markdown",
   "metadata": {},
   "source": [
    "### Island Definition"
   ]
  },
  {
   "cell_type": "code",
   "execution_count": null,
   "metadata": {},
   "outputs": [],
   "source": []
  },
  {
   "cell_type": "markdown",
   "metadata": {},
   "source": [
    "## Problem start from HERE ->"
   ]
  },
  {
   "cell_type": "code",
   "execution_count": 48,
   "metadata": {},
   "outputs": [],
   "source": [
    "starting_population = [choices([0, 1], k=NUM_LOCI) for _ in range(POPULATION)]"
   ]
  },
  {
   "cell_type": "code",
   "execution_count": null,
   "metadata": {},
   "outputs": [],
   "source": [
    "[print(starting_population[i]) for i in range(len(starting_population))]"
   ]
  }
 ],
 "metadata": {
  "kernelspec": {
   "display_name": "ci-fLJ3OwGs-py3.12",
   "language": "python",
   "name": "python3"
  },
  "language_info": {
   "codemirror_mode": {
    "name": "ipython",
    "version": 3
   },
   "file_extension": ".py",
   "mimetype": "text/x-python",
   "name": "python",
   "nbconvert_exporter": "python",
   "pygments_lexer": "ipython3",
   "version": "3.12.0"
  }
 },
 "nbformat": 4,
 "nbformat_minor": 2
}
