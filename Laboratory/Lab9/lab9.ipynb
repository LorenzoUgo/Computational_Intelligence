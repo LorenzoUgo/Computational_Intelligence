{
 "cells": [
  {
   "cell_type": "markdown",
   "metadata": {},
   "source": [
    "Copyright **`(c)`** 2023 Giovanni Squillero `<giovanni.squillero@polito.it>`  \n",
    "[`https://github.com/squillero/computational-intelligence`](https://github.com/squillero/computational-intelligence)  \n",
    "Free for personal or classroom use; see [`LICENSE.md`](https://github.com/squillero/computational-intelligence/blob/master/LICENSE.md) for details.  "
   ]
  },
  {
   "cell_type": "markdown",
   "metadata": {},
   "source": [
    "# LAB9\n",
    "\n",
    "Write a local-search algorithm (eg. an EA) able to solve the *Problem* instances 1, 2, 5, and 10 on a 1000-loci genomes, using a minimum number of fitness calls. That's all.\n",
    "\n",
    "### Deadlines:\n",
    "\n",
    "* Submission: Sunday, December 3 ([CET](https://www.timeanddate.com/time/zones/cet))\n",
    "* Reviews: Sunday, December 10 ([CET](https://www.timeanddate.com/time/zones/cet))\n",
    "\n",
    "Notes:\n",
    "\n",
    "* Reviews will be assigned  on Monday, December 4\n",
    "* You need to commit in order to be selected as a reviewer (ie. better to commit an empty work than not to commit)"
   ]
  },
  {
   "cell_type": "code",
   "execution_count": 1,
   "metadata": {},
   "outputs": [],
   "source": [
    "from random import choices, randint, choice, sample, random\n",
    "from copy import copy, deepcopy\n",
    "\n",
    "import lab9_lib\n",
    "import numpy as np\n",
    "import math\n"
   ]
  },
  {
   "cell_type": "code",
   "execution_count": 2,
   "metadata": {},
   "outputs": [
    {
     "name": "stdout",
     "output_type": "stream",
     "text": [
      "0001010110101010010000011101110100010100010110011101010101100001001011000100001100100110111100100110000110100100100001011111111111000010010010010100111000110000101101001100000010011100010100000111000011110001010111011100101111001111010001110001110011011101001010010100010010000101110100001110110011000110000010010000010100011001000001100101110101100100100111110111011100101000011000001011101100000110001101111111001001101110100101001111111101010010111011111010101101000100000111111010101010001111101111100011001101100000110111001010010000111001100010001101111011101100011100010011010100100010001011110110101110110000111101011001001000011110000110111000010001100100111100100110100010001000001111101101110111000111000011001010101111011011111010001101101000101110011011010110010001010001000100110001111011111000110100011101100010110101011100101010110100101001001000101111100001011100111100010101011001110111101111001101010101010100011100001010100001111010001101110011100100100110110100010000111011101010: 49.50%\n",
      "1100010110101100100011010100100101000010001100000100001000001101110010000100010001100111101110110000010011101100111110011110101001001110111010110011101011101010000111100111101000110010110011011010110110011000100110010101001110011101101101011101000101111111000111101110100000011111111100011100111001000101000110101100000011110101011010010001000001111010011001010010101110000101111100100010100101010101001100001010010010010111111000011001010111110010001101110111101010101111000111110001000101010011001011101100111110011001000111010001100001111111111011001111011010110101111001010001011101001011010110100010001101111010001000000101101110111100001010110000101110101110000100110000000111100101100010101100101000010000000010110011011111100110001010100000110111000000111000111111011001011111000111101101101001001101101101111001111010001100101110101111001111101100111001100110101000011111100110000000111101000101100000101111001111111101110101010101010100011111010101100001010110011100110000101011100100001101: 51.40%\n",
      "0011000111100001100010011011000100001100000100001000111110011010000100000000010101001100011111111000000001110101101111000111111000011000000010000100000010111000000010001100101001100111010100100011110111011100001000011010010101100110101001100111011001001001111101101110001001110011011001111001101000110100110010010101000010001010000111100111100110010010111010111001010101111100000101100010001001000000111001001101101100001000101101111010101000011000111010001000110110000010011111110101011011000111111011010000110101010010101010010100010111101000110000110011100110000001000011100111011101001111000000110010100011011100001011101100101111111010011010100101111000001100011101100110111101111011001000001101110010111011100100110100000100010100111110001010000001010100010111001101100111100000010111111011111011100010011010011101000101001010000001111010011101110101000001100001111101001110010101000100100011100101010010001111011101111110101101000000010110110011011110110111001011011110110011110010010100000001: 48.10%\n",
      "0000100100111111101000100001000001010010010100001101100001000100111011011100010100011100101101100111100101011100001000011110001000101111100001001100100001111001110100001000110100001001001101101100000010110111011110001101000000101110001100001110000100111111111111110101101001111110100010110000001111100100110000110111001000111000101001000010000001101100111000110001010101010111000101110111101000010010000010011100001001111010001101000001010110000011101110011010010010000100101000101101101100001111011101101010100011010010000000100001101000010100100110011101000110000010010001100000110011000011101010111100110110000101100111100000100100010001011110101011010001011001001100111111110001100101001101110100011111111010101011100100100101011000000000011101001111001110101100011101001110011011100001001000101001101101000011111000000100011000100101011000101111101011100010010101010000110110111100010101001101111100000110100001000100010000001011000011101101111100110110011100001100111010100000111101111110001010: 46.60%\n",
      "1010101010101101100110111110100100000101101010101110010100001110110001111111011111101110110100010110010100111000111100101011101010101101111010001001100010000110001010010110001111001111100001001111011111010010011110010100110100010011000001001001110111011000011011111101010111000011111011100001111101101011001000010001001001100001000000011010010111111110010010100000001010101000110010110111110111111101100001111110111001000010111001111010000101001110000000001110000000101011111011110010101110011010111101111110001011001010111011110001001101010101110000111011110001011110110010101010000011110100001001000001111000000010001000011010010101100101011100111110011010000011111101010101101010010011001010001010010000011110111001101101011000001101010100101111010111011001111000011111011001010010000001110010011111000110000111010010110011010111000001011101010111000011000110100100011010100110110001110101110111010110111011111101111110000110100001011101000100111001111100001010100111011100011100111001010111110001: 51.90%\n",
      "0110000010001111010111111111011000101010110111100011100110111001101000011001010101000011100000011001100011001010001100111111000111100100010000000110000000110010011111001100010000111010000001011010011111101010011010000101000010100010101010010001110100110100010000111100010001100001011010010110001100011111010011001000001000100101110010001010000010111010000000011011001000001100000101001011010001001100000111001010111101011011010011100000101100110001111111010110100110100111110000101111000010101010100100100101110000101101100110001000101101101100101111011011010001000000010010101000000111001000000001001000011010011111010000000000101111010011101111010111011100011011110001010111000110100010111001001100001110100110001110011010110000111111010101101010101010001110011010101111100011111011000000000110011001010011111000111011010101011110110100011111010110011100100011011001010001100001000110111111011101101000100001011111000101110010100101111111101001101011010001111101110010010110011101100010011001011011: 48.10%\n",
      "0000001111011101000100111111011010011100110011100111001110101111011010000011001101000110110111111101010110111011101010001110001100010110100011001110101111110000111110110001110010100010011001111010010000101011111100100100011111101110011001010001011111100101110110000100110101000100010010011101010100101100010000101000110110101001110011000111000011110100100011011000000001010000011011101000011110011011101100010110001000101101101110111100101100101110010110101111101111111010011100000011110010010010100001100111000110011001100000100110000101001000101000100111000111100011110001011010000111001010011100010011000100010000111011011011000110110101010000110001110110100101001010000100111111101011100011011001101011100111100100000110101101001100100101010100101110011001100010010011001110000111000000111101100100010111110111001111111100010111010011010010011111011110101001111011111010101000110001101110011110011000000000101010010001010110110100110111010101001001011011011111011010101110110011010001100011101101: 51.30%\n",
      "0111000110011000000100101010111010011011110001001010100001010110101101100101100000011011000110101100000001110000010010100010100111110011011001001011101001111000111011100101011111111000101101010100110111010001100110001101010101001110110100111101010010011001111111011110001100000001110101011110101100011100100011110111111001100100100111111101111110000100101001111101000111001101101110110010111001001000001000101000011001011000100000110111010101111010111000011110101101111001000011100101000110100100110101010111001111001100111100101100001110110010100011010110110111000010101001100011001111101101110010001001000000111011001101110001111110001011101010111000101000000000011001000011100010011011111011000111101000101000101010010000011011110000101100011111011111000111101000100101111000100101100011111000000011100000110101111100111011001011011101100101001011010100110001011110100001010111000111001111000001110101101100101001011000111100101101000110010011101001001001010011010111111001001101101100100001010001: 50.80%\n",
      "1000100000101010011100110010101010011001111100110010000111001000011011010101001011101000011111110111010001100110101111000000111001001010110111011111100011111110100111010010001111100101110100110010001111100010111000111010100111001010110111100011101001000010110001101111110001001010001000101010100011110010100011010100111010110001010010011011000011010111000000111111001010010000010100011001011111010010000001001101001001000101100100100010111110100100010011011100101110111111101000010001110011000011001100100111000101010100001101011011111101000010001111000001000110101110101111010011101011100011011100001011110100011110000101110010010010000000110010010001111111010000001011101100110010000001100100100110111011100001011001000001100000010101111001110000010100000011000010000100000110111010100010001000000011000000110000100111110011011001111011000111110111100001100110000011111100111001110111101010111010101110001001100111001101010101100100101010010100000001000010000000110000111001011110001111110100001111: 48.00%\n",
      "0011110011100110110001100001000000111100011101111100000101101010111111110001000011001010010101111100100010101100111100010100101010011111110010011110100011101111100000000101011101110011001001000011001101101100000101111001010100100101111011011110101111100100111000101001101111110011010011001001110101101100010100000001111010000010011000001001110011000010101011000110100101110111111111110111010101011111110111011111010101101000001010111010111011000001011100011011110101111111001101100110001001111100010001111100101001111110111010001110111101011101000110111100010110001011001110111110110000011010011000011110100000111111011011010111110011111110110010011000011011011101101100000111110100100010110011000110010100010111100110000011100101010100001100010010101101000010001111010010100100000111100110000010000111000010110101011111100111000101000010111100000100001000000110111001101011111101110111000100010110111110010111011011000010000010111110000000010100101110011100101110101010110110101110100000101010100111: 52.30%\n",
      "10\n"
     ]
    }
   ],
   "source": [
    "fitness = lab9_lib.make_problem(1)\n",
    "for n in range(10):     #Determina il numero di Fitness call\n",
    "    ind = choices([0, 1], k=1000)     #genoma casuale di 50 elementi\n",
    "    print(f\"{''.join(str(g) for g in ind)}: {fitness(ind):.2%}\")\n",
    "\n",
    "print(fitness.calls)"
   ]
  },
  {
   "cell_type": "markdown",
   "metadata": {},
   "source": [
    "# Local Search Algorithm"
   ]
  },
  {
   "cell_type": "code",
   "execution_count": 34,
   "metadata": {},
   "outputs": [],
   "source": [
    "# GLOBAL PARAMETER #\n",
    "NUM_LOCI = 1000\n",
    "\n",
    "POPULATION_SIZE = 10\n",
    "NEW_OFFSPRING = 30\n",
    "TOURNAMENT_SIZE = 5\n",
    "MUTATION_PROBABILITY = .15\n",
    "NUM_ISLANDS = 3\n",
    "\n",
    "# . . . . . . #"
   ]
  },
  {
   "cell_type": "markdown",
   "metadata": {},
   "source": [
    "### Mutation Techniques"
   ]
  },
  {
   "cell_type": "code",
   "execution_count": 4,
   "metadata": {},
   "outputs": [],
   "source": [
    "def mutation1(ind):     # 1 loci(gene) mutated\n",
    "    offspring = copy(ind)\n",
    "    pos = randint(0, NUM_LOCI-1)\n",
    "    offspring[pos] = 1 - offspring[pos]     # Se ho T/F-> offspring[pos] = not offspring[pos]\n",
    "    #assert len(offspring) == NUM_LOCI\n",
    "    return offspring\n",
    "\n",
    "def mutation2(ind):     # Reset randomly a random number of loci\n",
    "    offspring = copy(ind)\n",
    "    poss = (randint(0, NUM_LOCI-1), randint(0, NUM_LOCI-1))\n",
    "    offspring = ind[:min(poss)] + [choice([0, 1])for _ in range(max(poss)-min(poss))] + ind[max(poss):]\n",
    "    #assert len(offspring) == NUM_LOCI\n",
    "\n",
    "    return offspring"
   ]
  },
  {
   "cell_type": "markdown",
   "metadata": {},
   "source": [
    "### Recombination Techniques"
   ]
  },
  {
   "cell_type": "code",
   "execution_count": 5,
   "metadata": {},
   "outputs": [],
   "source": [
    "def one_cut_crossover(ind1, ind2):\n",
    "    cut_point = randint(0, NUM_LOCI-1)\n",
    "    offspring = ind1[:cut_point] + ind2[cut_point:]\n",
    "    #    assert len(offspring) == NUM_LOCI\n",
    "    return offspring\n",
    "\n",
    "'''def n_cut_crossover(ind1: fitness, ind2: fitness) -> fitness:\n",
    "    num_cut = math.ceil(np.random.normal(loc=10, scale=5))\n",
    "    cut_point = randint(0, NUM_LOCI-1)\n",
    "    offspring = ind1[:(NUM_LOCI/num_cut)]\n",
    "\n",
    "    offspring = ind1[:cut_point] + ind2[cut_point:]\n",
    "    assert len(offspring.genotype) == NUM_LOCI\n",
    "    return offspring'''\n",
    "\n",
    "def uniform_crossover(ind1, ind2):\n",
    "    offspring = [ind1[i] if i % 2 else ind2[i] for i in range(NUM_LOCI)]\n",
    "    # assert len(offspring) == NUM_LOCI\n",
    "    return offspring"
   ]
  },
  {
   "cell_type": "markdown",
   "metadata": {},
   "source": [
    "### Parent Selection"
   ]
  },
  {
   "cell_type": "code",
   "execution_count": 30,
   "metadata": {},
   "outputs": [],
   "source": [
    "def roulette_wheel(population):     # Roulette wheel with same probability\n",
    "    return choice(population)\n",
    "\n",
    "def variable_tournament(population):\n",
    "    \n",
    "    n_partecipants = randint(2, int(len(population)/2))\n",
    "    pool = choices(population, k=n_partecipants)\n",
    "    parent = max(pool, key=lambda i: fitness(i))\n",
    "\n",
    "    return parent\n",
    "\n",
    "def static_tournament(pop):\n",
    "\n",
    "    pool = [choice(pop) for _ in range(TOURNAMENT_SIZE)]\n",
    "    champ = max(pool, key=lambda i: fitness(i))\n",
    "    \n",
    "    return champ\n",
    "\n",
    "def best_parent_ever(population):\n",
    "    champ = max(population, key=lambda i: fitness(i))\n",
    "    return champ\n",
    "\n",
    "def genotype_screening(population):     # Select the 2 element with most differnt genotype \n",
    "    distance = []\n",
    "    for i in range(len(population)):\n",
    "        distance.append([sum(np.bitwise_xor(np.array(population[i]), np.array(population[j]))) for j in range(len(population))])\n",
    "    \n",
    "    distance = np.array(distance)\n",
    "    max_position = np.unravel_index(np.argmax(distance, axis=None), distance.shape)\n",
    "    \n",
    "    return population[max_position[0]], population[max_position[1]]"
   ]
  },
  {
   "cell_type": "markdown",
   "metadata": {},
   "source": [
    "### Survival Selection"
   ]
  },
  {
   "cell_type": "code",
   "execution_count": 7,
   "metadata": {},
   "outputs": [],
   "source": [
    "def survival_selection(population):\n",
    "    population.sort(key=lambda i:fitness(i), reverse=True)       # ORDERING FROM BEST TO WORSE\n",
    "    return population[:POPULATION_SIZE]       # SURVIVAL SELECTION\n",
    "    \n",
    "def remove_twin(population):        # Remove TWIN from the population because I belive that they will have the same fitness\n",
    "    twins = set()\n",
    "    for i in range(len(population)):\n",
    "        for j in range(i+1, len(population)):\n",
    "            if population[i]==population[j]:\n",
    "                twins.add(j)\n",
    "    \n",
    "    new_p = [ind for i, ind in enumerate(population) if i not in twins]\n",
    "    return new_p\n",
    "\n"
   ]
  },
  {
   "cell_type": "markdown",
   "metadata": {},
   "source": [
    "### Island Definition"
   ]
  },
  {
   "cell_type": "code",
   "execution_count": 8,
   "metadata": {},
   "outputs": [],
   "source": [
    "def island_0(population):   #Standard screening type of island\n",
    "    return #...\n",
    "\n",
    "def island_1(population):   #Genotype screening type of island\n",
    "    offspring = list()\n",
    "    for counter in range(NEW_OFFSPRING):\n",
    "        if random() < MUTATION_PROBABILITY:\n",
    "            # MUTATION \n",
    "            p = roulette_wheel(population)\n",
    "            o = mutation1(p)\n",
    "        else:\n",
    "            #CROSS-OVER\n",
    "            p1 = variable_tournament(population)\n",
    "            p2 = variable_tournament(population)\n",
    "            o =  one_cut_crossover(p1, p2)\n",
    "        offspring.append(o)\n",
    "\n",
    "    population.extend(offspring)\n",
    "    population = remove_twin(population)\n",
    "    population = survival_selection(population)\n",
    "    return population\n",
    "\n",
    "def island_2(population):   # Fitness screening type of island\n",
    "    return #...\n",
    "\n",
    "def island_3(population):   # Where all the result come togheter\n",
    "    return #..."
   ]
  },
  {
   "cell_type": "markdown",
   "metadata": {},
   "source": [
    "## Problem start from HERE ->"
   ]
  },
  {
   "cell_type": "code",
   "execution_count": 41,
   "metadata": {},
   "outputs": [],
   "source": [
    "fitness = lab9_lib.make_problem(1)\n",
    "\n",
    "starting_population = [choices([0, 1], k=NUM_LOCI) for _ in range(POPULATION_SIZE)]"
   ]
  },
  {
   "cell_type": "code",
   "execution_count": 10,
   "metadata": {},
   "outputs": [
    {
     "name": "stdout",
     "output_type": "stream",
     "text": [
      "10\n",
      "False\n"
     ]
    }
   ],
   "source": [
    "print(len(starting_population))\n",
    "\n",
    "print(starting_population[1]==starting_population[9])"
   ]
  },
  {
   "cell_type": "code",
   "execution_count": 43,
   "metadata": {},
   "outputs": [
    {
     "name": "stdout",
     "output_type": "stream",
     "text": [
      "0.52\n",
      "0.521\n",
      "0.522\n",
      "0.523\n",
      "0.524\n",
      "0.524\n",
      "0.525\n",
      "0.526\n",
      "0.527\n",
      "0.527\n",
      "0.527\n",
      "0.527\n",
      "0.527\n",
      "0.527\n",
      "0.528\n",
      "0.529\n",
      "0.53\n",
      "0.531\n",
      "0.532\n",
      "0.532\n",
      "0.532\n",
      "0.532\n",
      "0.533\n",
      "0.534\n",
      "0.534\n",
      "0.534\n",
      "0.535\n",
      "0.535\n",
      "0.535\n",
      "0.535\n",
      "0.536\n",
      "0.536\n",
      "0.537\n",
      "0.538\n",
      "0.538\n",
      "0.538\n",
      "0.538\n",
      "0.539\n",
      "0.539\n",
      "0.54\n",
      "0.54\n",
      "0.54\n",
      "0.54\n",
      "0.541\n",
      "0.541\n",
      "0.541\n",
      "0.541\n",
      "0.542\n",
      "0.542\n",
      "0.542\n",
      "0.542\n",
      "0.543\n",
      "0.543\n",
      "0.543\n",
      "0.543\n",
      "0.545\n",
      "0.545\n",
      "0.546\n",
      "0.546"
     ]
    },
    {
     "ename": "KeyboardInterrupt",
     "evalue": "",
     "output_type": "error",
     "traceback": [
      "\u001b[1;31m---------------------------------------------------------------------------\u001b[0m",
      "\u001b[1;31mKeyboardInterrupt\u001b[0m                         Traceback (most recent call last)",
      "\u001b[1;32mc:\\Users\\Lorenzo Ugoccioni\\Documents\\PoliTo\\LM - II anno\\Computational Intelligence\\Coding\\Laboratory\\Lab9\\lab9.ipynb Cella 20\u001b[0m line \u001b[0;36m3\n\u001b[0;32m     <a href='vscode-notebook-cell:/c%3A/Users/Lorenzo%20Ugoccioni/Documents/PoliTo/LM%20-%20II%20anno/Computational%20Intelligence/Coding/Laboratory/Lab9/lab9.ipynb#X26sZmlsZQ%3D%3D?line=27'>28</a>\u001b[0m     population \u001b[39m=\u001b[39m survival_selection(population)\n\u001b[0;32m     <a href='vscode-notebook-cell:/c%3A/Users/Lorenzo%20Ugoccioni/Documents/PoliTo/LM%20-%20II%20anno/Computational%20Intelligence/Coding/Laboratory/Lab9/lab9.ipynb#X26sZmlsZQ%3D%3D?line=29'>30</a>\u001b[0m     \u001b[39m# Island 1 #\u001b[39;00m\n\u001b[0;32m     <a href='vscode-notebook-cell:/c%3A/Users/Lorenzo%20Ugoccioni/Documents/PoliTo/LM%20-%20II%20anno/Computational%20Intelligence/Coding/Laboratory/Lab9/lab9.ipynb#X26sZmlsZQ%3D%3D?line=30'>31</a>\u001b[0m     \n\u001b[0;32m     <a href='vscode-notebook-cell:/c%3A/Users/Lorenzo%20Ugoccioni/Documents/PoliTo/LM%20-%20II%20anno/Computational%20Intelligence/Coding/Laboratory/Lab9/lab9.ipynb#X26sZmlsZQ%3D%3D?line=31'>32</a>\u001b[0m     \u001b[39m# Island 2 #\u001b[39;00m\n\u001b[1;32m---> <a href='vscode-notebook-cell:/c%3A/Users/Lorenzo%20Ugoccioni/Documents/PoliTo/LM%20-%20II%20anno/Computational%20Intelligence/Coding/Laboratory/Lab9/lab9.ipynb#X26sZmlsZQ%3D%3D?line=34'>35</a>\u001b[0m     \u001b[39mprint\u001b[39;49m(fitness(population[\u001b[39m0\u001b[39;49m]))\n\u001b[0;32m     <a href='vscode-notebook-cell:/c%3A/Users/Lorenzo%20Ugoccioni/Documents/PoliTo/LM%20-%20II%20anno/Computational%20Intelligence/Coding/Laboratory/Lab9/lab9.ipynb#X26sZmlsZQ%3D%3D?line=35'>36</a>\u001b[0m \u001b[39mprint\u001b[39m(fitness\u001b[39m.\u001b[39mcalls)\n",
      "File \u001b[1;32mc:\\Users\\Lorenzo Ugoccioni\\Documents\\PoliTo\\LM - II anno\\Computational Intelligence\\Coding\\venv\\Lib\\site-packages\\ipykernel\\iostream.py:664\u001b[0m, in \u001b[0;36mOutStream.write\u001b[1;34m(self, string)\u001b[0m\n\u001b[0;32m    662\u001b[0m         \u001b[39mself\u001b[39m\u001b[39m.\u001b[39mpub_thread\u001b[39m.\u001b[39mschedule(\u001b[39mself\u001b[39m\u001b[39m.\u001b[39m_flush)\n\u001b[0;32m    663\u001b[0m     \u001b[39melse\u001b[39;00m:\n\u001b[1;32m--> 664\u001b[0m         \u001b[39mself\u001b[39;49m\u001b[39m.\u001b[39;49m_schedule_flush()\n\u001b[0;32m    666\u001b[0m \u001b[39mreturn\u001b[39;00m \u001b[39mlen\u001b[39m(string)\n",
      "File \u001b[1;32mc:\\Users\\Lorenzo Ugoccioni\\Documents\\PoliTo\\LM - II anno\\Computational Intelligence\\Coding\\venv\\Lib\\site-packages\\ipykernel\\iostream.py:561\u001b[0m, in \u001b[0;36mOutStream._schedule_flush\u001b[1;34m(self)\u001b[0m\n\u001b[0;32m    558\u001b[0m \u001b[39mdef\u001b[39;00m \u001b[39m_schedule_in_thread\u001b[39m():\n\u001b[0;32m    559\u001b[0m     \u001b[39mself\u001b[39m\u001b[39m.\u001b[39m_io_loop\u001b[39m.\u001b[39mcall_later(\u001b[39mself\u001b[39m\u001b[39m.\u001b[39mflush_interval, \u001b[39mself\u001b[39m\u001b[39m.\u001b[39m_flush)\n\u001b[1;32m--> 561\u001b[0m \u001b[39mself\u001b[39;49m\u001b[39m.\u001b[39;49mpub_thread\u001b[39m.\u001b[39;49mschedule(_schedule_in_thread)\n",
      "File \u001b[1;32mc:\\Users\\Lorenzo Ugoccioni\\Documents\\PoliTo\\LM - II anno\\Computational Intelligence\\Coding\\venv\\Lib\\site-packages\\ipykernel\\iostream.py:267\u001b[0m, in \u001b[0;36mIOPubThread.schedule\u001b[1;34m(self, f)\u001b[0m\n\u001b[0;32m    265\u001b[0m     \u001b[39mself\u001b[39m\u001b[39m.\u001b[39m_events\u001b[39m.\u001b[39mappend(f)\n\u001b[0;32m    266\u001b[0m     \u001b[39m# wake event thread (message content is ignored)\u001b[39;00m\n\u001b[1;32m--> 267\u001b[0m     \u001b[39mself\u001b[39;49m\u001b[39m.\u001b[39;49m_event_pipe\u001b[39m.\u001b[39;49msend(\u001b[39mb\u001b[39;49m\u001b[39m\"\u001b[39;49m\u001b[39m\"\u001b[39;49m)\n\u001b[0;32m    268\u001b[0m \u001b[39melse\u001b[39;00m:\n\u001b[0;32m    269\u001b[0m     f()\n",
      "File \u001b[1;32mc:\\Users\\Lorenzo Ugoccioni\\Documents\\PoliTo\\LM - II anno\\Computational Intelligence\\Coding\\venv\\Lib\\site-packages\\zmq\\sugar\\socket.py:696\u001b[0m, in \u001b[0;36mSocket.send\u001b[1;34m(self, data, flags, copy, track, routing_id, group)\u001b[0m\n\u001b[0;32m    689\u001b[0m         data \u001b[39m=\u001b[39m zmq\u001b[39m.\u001b[39mFrame(\n\u001b[0;32m    690\u001b[0m             data,\n\u001b[0;32m    691\u001b[0m             track\u001b[39m=\u001b[39mtrack,\n\u001b[0;32m    692\u001b[0m             copy\u001b[39m=\u001b[39mcopy \u001b[39mor\u001b[39;00m \u001b[39mNone\u001b[39;00m,\n\u001b[0;32m    693\u001b[0m             copy_threshold\u001b[39m=\u001b[39m\u001b[39mself\u001b[39m\u001b[39m.\u001b[39mcopy_threshold,\n\u001b[0;32m    694\u001b[0m         )\n\u001b[0;32m    695\u001b[0m     data\u001b[39m.\u001b[39mgroup \u001b[39m=\u001b[39m group\n\u001b[1;32m--> 696\u001b[0m \u001b[39mreturn\u001b[39;00m \u001b[39msuper\u001b[39;49m()\u001b[39m.\u001b[39;49msend(data, flags\u001b[39m=\u001b[39;49mflags, copy\u001b[39m=\u001b[39;49mcopy, track\u001b[39m=\u001b[39;49mtrack)\n",
      "File \u001b[1;32mzmq\\\\backend\\\\cython\\\\socket.pyx:742\u001b[0m, in \u001b[0;36mzmq.backend.cython.socket.Socket.send\u001b[1;34m()\u001b[0m\n",
      "File \u001b[1;32mzmq\\\\backend\\\\cython\\\\socket.pyx:789\u001b[0m, in \u001b[0;36mzmq.backend.cython.socket.Socket.send\u001b[1;34m()\u001b[0m\n",
      "File \u001b[1;32mzmq\\\\backend\\\\cython\\\\socket.pyx:250\u001b[0m, in \u001b[0;36mzmq.backend.cython.socket._send_copy\u001b[1;34m()\u001b[0m\n",
      "File \u001b[1;32mc:\\Users\\Lorenzo Ugoccioni\\Documents\\PoliTo\\LM - II anno\\Computational Intelligence\\Coding\\venv\\Lib\\site-packages\\zmq\\backend\\cython\\checkrc.pxd:13\u001b[0m, in \u001b[0;36mzmq.backend.cython.checkrc._check_rc\u001b[1;34m()\u001b[0m\n",
      "\u001b[1;31mKeyboardInterrupt\u001b[0m: "
     ]
    }
   ],
   "source": [
    "population = starting_population\n",
    "island_0 = starting_population\n",
    "champ_island=[]\n",
    "galapagos = (island_0, champ_island)\n",
    "mutation_strategy = (mutation1, mutation2)\n",
    "recombination_strategy = (one_cut_crossover, uniform_crossover)\n",
    "parent_selection_strategy = (roulette_wheel, static_tournament, variable_tournament)\n",
    "survival_selection_strategy = (remove_twin, survival_selection)\n",
    "\n",
    "while all(fitness(i) != 1 for i in population):     # condizione da sistemare\n",
    "    # Island 0 #\n",
    "    offspring = list()\n",
    "    for counter in range(NEW_OFFSPRING):\n",
    "        if random() < MUTATION_PROBABILITY:\n",
    "            # MUTATION \n",
    "            p = roulette_wheel(population)\n",
    "            o = mutation1(p)\n",
    "        else:\n",
    "            #CROSS-OVER\n",
    "            p1, p2 = genotype_screening(population)\n",
    "            #p1 = variable_tournament(population)\n",
    "            #p2 = variable_tournament(population)\n",
    "            o =  uniform_crossover(p1, p2)\n",
    "        offspring.append(o)\n",
    "\n",
    "    population.extend(offspring)\n",
    "    population = remove_twin(population)\n",
    "    population = survival_selection(population)\n",
    "    \n",
    "    # Island 1 #\n",
    "    \n",
    "    # Island 2 #\n",
    "\n",
    "\n",
    "    print(fitness(population[0]))\n",
    "print(fitness.calls)"
   ]
  }
 ],
 "metadata": {
  "kernelspec": {
   "display_name": "ci-fLJ3OwGs-py3.12",
   "language": "python",
   "name": "python3"
  },
  "language_info": {
   "codemirror_mode": {
    "name": "ipython",
    "version": 3
   },
   "file_extension": ".py",
   "mimetype": "text/x-python",
   "name": "python",
   "nbconvert_exporter": "python",
   "pygments_lexer": "ipython3",
   "version": "3.12.0"
  }
 },
 "nbformat": 4,
 "nbformat_minor": 2
}
