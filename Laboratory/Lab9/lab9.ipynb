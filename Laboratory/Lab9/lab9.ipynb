{
 "cells": [
  {
   "cell_type": "markdown",
   "metadata": {},
   "source": [
    "Copyright **`(c)`** 2023 Giovanni Squillero `<giovanni.squillero@polito.it>`  \n",
    "[`https://github.com/squillero/computational-intelligence`](https://github.com/squillero/computational-intelligence)  \n",
    "Free for personal or classroom use; see [`LICENSE.md`](https://github.com/squillero/computational-intelligence/blob/master/LICENSE.md) for details.  "
   ]
  },
  {
   "cell_type": "markdown",
   "metadata": {},
   "source": [
    "# LAB9\n",
    "\n",
    "Write a local-search algorithm (eg. an EA) able to solve the *Problem* instances 1, 2, 5, and 10 on a 1000-loci genomes, using a minimum number of fitness calls. That's all.\n",
    "\n",
    "### Deadlines:\n",
    "\n",
    "* Submission: Sunday, December 3 ([CET](https://www.timeanddate.com/time/zones/cet))\n",
    "* Reviews: Sunday, December 10 ([CET](https://www.timeanddate.com/time/zones/cet))\n",
    "\n",
    "Notes:\n",
    "\n",
    "* Reviews will be assigned  on Monday, December 4\n",
    "* You need to commit in order to be selected as a reviewer (ie. better to commit an empty work than not to commit)"
   ]
  },
  {
   "cell_type": "code",
   "execution_count": 15,
   "metadata": {},
   "outputs": [],
   "source": [
    "from random import choices, randint, choice, sample, random\n",
    "from copy import copy, deepcopy\n",
    "\n",
    "import lab9_lib\n",
    "import numpy as np\n",
    "import math\n"
   ]
  },
  {
   "cell_type": "code",
   "execution_count": 16,
   "metadata": {},
   "outputs": [
    {
     "name": "stdout",
     "output_type": "stream",
     "text": [
      "1110110100100011101000000110011111110011001000010001010001000110011101111110110100011110000010011101001000011100101111110101111010101000100110001100011001011101010000010100000110000111010101001011000110111010101110010000111110111111010000000000101000000110000101011100101101010000000101010011011001101100010011101010100000100101010101110001010101000001001100101100001011110010000101101000011000101010110000011010111000011001010010011010101110111000100101000100010010110111100000111100111011110011110001000011011110111100011101011001010011011101101010100101001100011101100101011100001100011100000101000111111000100100111111011001010010010101101010101000110100000010111101000110111011101010000100110010110010011101110111100111011111101001000000001111001110111100011001001010111100110100100001010000000001011000110001000010001100110110110100011111111100101110101011010010000010111101001100011111010110110111110011101000111100011000011111111101000001110000101010010111001010001100100001000000000100011101: 48.20%\n",
      "1011100010010101100000001100111100000001010010110001100001111101110010100010111001110010010100000101000101010110000110110111010010100010110000101010111001111001111110011010101101001111010000111011000110111100011000100011001011000100101011110101010100100110000111100100010011001001010001000011100100010101100001010111011010010010110010000010010111110010101011100111001101100111100001100001001011011011100100110101100101000111100010001111011001110011100001001111111000100011110001010001110000001101011110011100001010100010101001100011011110000101011111000101000110111000001111100000100100000110100101110100101100011000101110010000010001101100100000100101000000110011110101010101010001000110010111000010011010011110101111000010001100111001001010101110000100101101110010010010101101000000000101110000100000100110011010110001100101100011001001111100100001001010100000000001101111010001000010110010001001111110001001111001100000000000010110010011011111110101010011000110101001111001010001011011010111101010: 46.20%\n",
      "0101011011100111001100101101111110101001100010011010110111000001101101000111000000011000011111101100011110001110110011010000110001101010011010011111110010001101001011001110000011111011001111111101011000100100110101111111010111001011100011110001000010111100101001100101101111010110001010001111000001111100111000111010101101110111011001100010100101100011111000111000001011010110001110000110110010110100001101011101111110000011011010100110001111111000111010011010111101110111110001011010000000111011101101111101101010000100101010101010000010111011111101101100101101000110111000001011111111100010011011001011101100111101011010101101111111000001001010111011111110010001100001100001001100001100000000101001111100001110011100011010010100110010110011011001000101111011011000111011010111010000110101000010010101011110110100101101101111010100111111011111110101010011100001101110100001110110010010010000100110111101000111011010011000011011011101111100101100010110001101110100001000111100010011111000100111011111: 53.80%\n",
      "1000000000000100011100110111111010000011001111010111001011110000000100101010110001011110111101110110000110100010001111000000011100000000001111011000101000010001111101111101000000111110011101001111011011100101111101010011011111110010011000000101001101111010110001001100001101010000110000111110000010100001100011011001101101011000100100101100001100000100000000001101011110010101001110000101110101110111111101011000100010100111111010010000010100101011100001101001011110100000100011011001111011010010110011100000011000100010000000110000010100100001011010100011111001000110000011011111110001011010100100101001011110000100011110101101000110001000100000001011100101101110111011110101100110110001110100000111110100011000001100100001101001010011101100000110110101100010111011100110000101011010111110100100010011001110011011110100000100001010000111110101101111100010010100101100011110001100000001101000101100010011110110111101011010011110111010101010011001011111010011101100010011101101110000111010110001000101: 48.10%\n",
      "1100010000000101110101010001100110000010010100001110000100010000111011110011011111000001111011101001101100101100010100101100010110101010100111101100001111111000100100001100010001011000101000110011101011111110011010100100110011001010110001010001110010110111001100000100111000111111111110111010001001100010101111110001101010000110100010011011110100111011011010101011001111111111111110000001011100111110000000000000000011111001111000011101111101001001001110110110011111110000001101111010001011010000100110110111011110000101110100111101101110110101101100110010111000110111001001010011111100001011110010000010111110110001010100010000111011101111011001111100110011100011100101101110110001010110111111100000110100000100001101010100011000011001001001111000011011000100111101110001100101111001110001100100110011101001101010111100000011000101001110001100011101000011011010010011101011010010010100100111100101010010011100000100010101001011010001111001110011110001000100100110100010010011100111111010101110100101: 50.90%\n",
      "1011001101100110010000110110110011011000101000011001101011000110100110100101101111000011000111011000110001101010100110000011000011101001100100011101111001101111100000000011010010100010000110110111100010100100111001011110011010001100110010001011101001111110100111111110001000010011101000001011110010000010100000100001101010000010011010100110010101001101100111011101001001110001010110110111110110011000111111000101010010111000111100010101000001000011110111111110010110000110010011010101101100000100100010100000100101101000100100111001000010011010111011101101100101010010011001011110011110000000000100111001110010001011111001101001111111010001001001010101101001110101110110011111101110010101111010001011001110110101110110011110111011000010111111000010111011111111001010011011100010001101111101111100010010100001100001011010010000110100101111111010100010010100110010110101000101111011111011000010011100101100111000100010011011010001011110111001011001001101001111110000101001101011101100100100010101001110: 50.50%\n",
      "1110101010110011110100000100111110011011100111011111111110010000101011000000100101011110011111110000110100011001011011010100010111001000110010000100010001001110000100101011111101001010001111100001001001010111000001110100101011010000100110001100000000001011110100101101110010000000010100110011000010110110100000110110110011000010000110000100110011010110111100111010000000010000011101001000100110010101010010010101000001000111110001010111110001000000011000001111000101000110100100011001110011110011011001011111101101100001110111000111111000101011111001011011111110111011100010101000111101100110001111100010000110110111111000101011111100011100011010011101101001011011001100100101000110111010100000111100010010110011110010101001010010100110011010111101111001001001001010000110111000100101101000101101111011111110001110011100000011000110011000010011010001010010010111101001001000111110110100010011000110011110000101011100010100111100010110101000101110010100110101000101000000110011110110111000000010001000: 48.40%\n",
      "1000110110000000100110011101101001011010110000000000101010010001010101001100010011010011100011100101100101101011100101101111011101011100011001010001111100100111011011001000101011001110111100111000101101001011011011010011001011010100001001000011100000110111011000001111101100011001011100110100010011000001000110010010000000000101101010110011100010111001110100001100011101000111101000010001001000000111000000000011000010110100110111010100011010001100001011111101100010111000010110110100011000111011101010110000101000001100010111101111010000110111001110000110010000011111010011001011010011100000000111110111001111010101110000111111100000110000010001011010101000101100110000111011011000100111110010000011011101110111110000001111100111111011001000010111100011101110011111001101110010011101011101000011100000111101100010101000000101101101100001110001101110001100001110110111010001100111100001101101100110011011001110001111001010110001010111100110110100100101110111000110100101111100001100011000011101101100: 49.00%\n",
      "1100111010010111101010001010000011101001011111011000011000010000101001100110111110000110000100111110000001100011101101011010110001101010000000010011101110101010101110010000100011011001001111111010110101011001110001001000000011011011110011111111010000100001110000000101101111011011110101111010001110110001010100101100001000001101010111110011101011010000110100111000101001101110001110111011100110101000011100011100001000101001110001001100101111000101000000010010110110001101001110010110000000011100001111101001001000111011100111100010011010111011011110010110100000110100000111000011011000111001111100000110110011101111111000111111101101000111110001110101011111001101110100010101011110111110110010001010011101011011110000011111110010110000001011001011000001000010111111100000101011000111010110000011011010110101011101111100001000000100011100111001011010101001111011110101010010010010010111010011111001111111000010111101000110100110010000100010000110001101111101100101010111110101101100110110111000010001: 50.90%\n",
      "1000011011010100010110100011110111011010100101111110110010110001001001011000011100000111011001101100011000111101100111011110100101111101101011110110110100111111110000101100100001101101100110010110001100011011100000011001010011001100011010110100111101101011010011001100100101110000100101100101100000100011110001100010011101111001010110001000101111101110100010110011111010100110110110010101110111010100010001010100100001001001111011000101011111110010010110000000110110101001011110111011010101000101000100000100000111011100111011011011111110000111110110100100111100010010001011111011011000011111100001100101110010100000110100100000001000011000111010010100101111011010101111000010011010000110011011001111000010110111111010001110110110011101001010010011101000100100000010010111010011101110000100110010110000110010011100100001011011110011111100000101100111111110100111110011000000101011100110101110100110011000001001011101100010000101101110110110001101111110101010111110000101111001001000100100011001000001: 50.90%\n",
      "10\n"
     ]
    }
   ],
   "source": [
    "fitness = lab9_lib.make_problem(1)\n",
    "for n in range(10):     #Determina il numero di Fitness call\n",
    "    ind = choices([0, 1], k=1000)     #genoma casuale di 50 elementi\n",
    "    print(f\"{''.join(str(g) for g in ind)}: {fitness(ind):.2%}\")\n",
    "\n",
    "print(fitness.calls)"
   ]
  },
  {
   "cell_type": "markdown",
   "metadata": {},
   "source": [
    "# Local Search Algorithm"
   ]
  },
  {
   "cell_type": "code",
   "execution_count": 17,
   "metadata": {},
   "outputs": [],
   "source": [
    "# GLOBAL PARAMETER #\n",
    "NUM_LOCI = 1000\n",
    "\n",
    "POPULATION_SIZE = 100\n",
    "NEW_OFFSPRING = 30\n",
    "TOURNAMENT_SIZE = 5\n",
    "MUTATION_PROBABILITY = .15\n",
    "NUM_ISLANDS = 3\n",
    "\n",
    "# . . . . . . #"
   ]
  },
  {
   "cell_type": "markdown",
   "metadata": {},
   "source": [
    "### Mutation Techniques"
   ]
  },
  {
   "cell_type": "code",
   "execution_count": 18,
   "metadata": {},
   "outputs": [],
   "source": [
    "def mutation1(ind):     # 1 loci(gene) mutated\n",
    "    offspring = copy(ind)\n",
    "    pos = randint(0, NUM_LOCI-1)\n",
    "    offspring[pos] = 1 - offspring[pos]     # Se ho T/F-> offspring[pos] = not offspring[pos]\n",
    "    #assert len(offspring) == NUM_LOCI\n",
    "    return offspring\n",
    "\n",
    "def mutation2(ind):     # Reset randomly a random number of loci\n",
    "    offspring = copy(ind)\n",
    "    poss = (randint(0, NUM_LOCI-1), randint(0, NUM_LOCI-1))\n",
    "    offspring = ind[:min(poss)] + [choice([0, 1])for _ in range(max(poss)-min(poss))] + ind[max(poss):]\n",
    "    #assert len(offspring) == NUM_LOCI\n",
    "\n",
    "    return offspring"
   ]
  },
  {
   "cell_type": "markdown",
   "metadata": {},
   "source": [
    "### Recombination Techniques"
   ]
  },
  {
   "cell_type": "code",
   "execution_count": 19,
   "metadata": {},
   "outputs": [],
   "source": [
    "def one_cut_crossover(ind1, ind2):\n",
    "    cut_point = randint(0, NUM_LOCI-1)\n",
    "    offspring = ind1[:cut_point] + ind2[cut_point:]\n",
    "    #    assert len(offspring) == NUM_LOCI\n",
    "    return offspring\n",
    "\n",
    "'''def n_cut_crossover(ind1: fitness, ind2: fitness) -> fitness:\n",
    "    num_cut = math.ceil(np.random.normal(loc=10, scale=5))\n",
    "    cut_point = randint(0, NUM_LOCI-1)\n",
    "    offspring = ind1[:(NUM_LOCI/num_cut)]\n",
    "\n",
    "    offspring = ind1[:cut_point] + ind2[cut_point:]\n",
    "    assert len(offspring.genotype) == NUM_LOCI\n",
    "    return offspring'''\n",
    "\n",
    "def uniform_crossover(ind1, ind2):\n",
    "    offspring = [ind1[i] if i % 2 else ind2[i] for i in range(NUM_LOCI)]\n",
    "    # assert len(offspring) == NUM_LOCI\n",
    "    return offspring"
   ]
  },
  {
   "cell_type": "markdown",
   "metadata": {},
   "source": [
    "### Parent Selection"
   ]
  },
  {
   "cell_type": "code",
   "execution_count": 20,
   "metadata": {},
   "outputs": [],
   "source": [
    "def roulette_wheel(population):     # Roulette wheel with same probability\n",
    "    return choice(population)\n",
    "\n",
    "def variable_tournament(population):\n",
    "    \n",
    "    n_partecipants = randint(0, int(len(population)/2))\n",
    "    pool = [choices(population, k=n_partecipants)]\n",
    "    parent = max(pool, key=lambda i: fitness(i))\n",
    "\n",
    "    return parent\n",
    "\n",
    "def static_tournament(pop):\n",
    "\n",
    "    pool = [choice(pop) for _ in range(TOURNAMENT_SIZE)]\n",
    "    champ = max(pool, key=lambda i: fitness(i))\n",
    "    \n",
    "    return champ\n",
    "\n",
    "def best_parent_ever(population):\n",
    "    champ = max(population, key=lambda i: fitness(i))\n",
    "    return champ"
   ]
  },
  {
   "cell_type": "markdown",
   "metadata": {},
   "source": [
    "### Survival Selection"
   ]
  },
  {
   "cell_type": "code",
   "execution_count": 21,
   "metadata": {},
   "outputs": [],
   "source": [
    "def survival_selection(population):\n",
    "    population.sort(key=lambda i:fitness(i), reverse=True)       # ORDERING FROM BEST TO WORSE\n",
    "    return population[:POPULATION_SIZE]       # SURVIVAL SELECTION\n",
    "    \n",
    "def remove_twin(population):        # Remove TWIN from the population because I belive that they will have the same fitness\n",
    "    twins = []\n",
    "    for i in range(len(population)):\n",
    "        for j in range(i, len(population)):\n",
    "            if population[i]==population[j]:\n",
    "                twins.append(j)\n",
    "    \n",
    "    new_p = [ind for i, ind in enumerate(population) if i not in twins]\n",
    "    return new_p\n",
    "\n"
   ]
  },
  {
   "cell_type": "markdown",
   "metadata": {},
   "source": [
    "### Island Definition"
   ]
  },
  {
   "cell_type": "code",
   "execution_count": null,
   "metadata": {},
   "outputs": [],
   "source": []
  },
  {
   "cell_type": "markdown",
   "metadata": {},
   "source": [
    "## Problem start from HERE ->"
   ]
  },
  {
   "cell_type": "code",
   "execution_count": 22,
   "metadata": {},
   "outputs": [],
   "source": [
    "starting_population = [choices([0, 1], k=NUM_LOCI) for _ in range(POPULATION_SIZE)]"
   ]
  },
  {
   "cell_type": "code",
   "execution_count": 23,
   "metadata": {},
   "outputs": [
    {
     "name": "stdout",
     "output_type": "stream",
     "text": [
      "100\n",
      "False\n"
     ]
    }
   ],
   "source": [
    "print(len(starting_population))\n",
    "\n",
    "print(starting_population[1]==starting_population[9])"
   ]
  },
  {
   "cell_type": "code",
   "execution_count": 24,
   "metadata": {},
   "outputs": [
    {
     "data": {
      "text/plain": [
       "4"
      ]
     },
     "execution_count": 24,
     "metadata": {},
     "output_type": "execute_result"
    }
   ],
   "source": [
    "math.ceil(np.random.normal(loc=10, scale=5))\n"
   ]
  },
  {
   "cell_type": "code",
   "execution_count": 25,
   "metadata": {},
   "outputs": [
    {
     "ename": "ZeroDivisionError",
     "evalue": "division by zero",
     "output_type": "error",
     "traceback": [
      "\u001b[1;31m---------------------------------------------------------------------------\u001b[0m",
      "\u001b[1;31mZeroDivisionError\u001b[0m                         Traceback (most recent call last)",
      "\u001b[1;32mc:\\Users\\Lorenzo Ugoccioni\\Documents\\PoliTo\\LM - II anno\\Computational Intelligence\\Coding\\Laboratory\\Lab9\\lab9.ipynb Cella 21\u001b[0m line \u001b[0;36m1\n\u001b[0;32m     <a href='vscode-notebook-cell:/c%3A/Users/Lorenzo%20Ugoccioni/Documents/PoliTo/LM%20-%20II%20anno/Computational%20Intelligence/Coding/Laboratory/Lab9/lab9.ipynb#X35sZmlsZQ%3D%3D?line=12'>13</a>\u001b[0m     o \u001b[39m=\u001b[39m mutation1(p)\n\u001b[0;32m     <a href='vscode-notebook-cell:/c%3A/Users/Lorenzo%20Ugoccioni/Documents/PoliTo/LM%20-%20II%20anno/Computational%20Intelligence/Coding/Laboratory/Lab9/lab9.ipynb#X35sZmlsZQ%3D%3D?line=13'>14</a>\u001b[0m \u001b[39melse\u001b[39;00m:\n\u001b[0;32m     <a href='vscode-notebook-cell:/c%3A/Users/Lorenzo%20Ugoccioni/Documents/PoliTo/LM%20-%20II%20anno/Computational%20Intelligence/Coding/Laboratory/Lab9/lab9.ipynb#X35sZmlsZQ%3D%3D?line=14'>15</a>\u001b[0m     \u001b[39m#CROSS-OVER\u001b[39;00m\n\u001b[1;32m---> <a href='vscode-notebook-cell:/c%3A/Users/Lorenzo%20Ugoccioni/Documents/PoliTo/LM%20-%20II%20anno/Computational%20Intelligence/Coding/Laboratory/Lab9/lab9.ipynb#X35sZmlsZQ%3D%3D?line=15'>16</a>\u001b[0m     p1 \u001b[39m=\u001b[39m variable_tournament(population)\n\u001b[0;32m     <a href='vscode-notebook-cell:/c%3A/Users/Lorenzo%20Ugoccioni/Documents/PoliTo/LM%20-%20II%20anno/Computational%20Intelligence/Coding/Laboratory/Lab9/lab9.ipynb#X35sZmlsZQ%3D%3D?line=16'>17</a>\u001b[0m     p2 \u001b[39m=\u001b[39m variable_tournament(population)\n\u001b[0;32m     <a href='vscode-notebook-cell:/c%3A/Users/Lorenzo%20Ugoccioni/Documents/PoliTo/LM%20-%20II%20anno/Computational%20Intelligence/Coding/Laboratory/Lab9/lab9.ipynb#X35sZmlsZQ%3D%3D?line=17'>18</a>\u001b[0m     o \u001b[39m=\u001b[39m  one_cut_crossover(p1, p2)\n",
      "\u001b[1;32mc:\\Users\\Lorenzo Ugoccioni\\Documents\\PoliTo\\LM - II anno\\Computational Intelligence\\Coding\\Laboratory\\Lab9\\lab9.ipynb Cella 21\u001b[0m line \u001b[0;36m8\n\u001b[0;32m      <a href='vscode-notebook-cell:/c%3A/Users/Lorenzo%20Ugoccioni/Documents/PoliTo/LM%20-%20II%20anno/Computational%20Intelligence/Coding/Laboratory/Lab9/lab9.ipynb#X35sZmlsZQ%3D%3D?line=5'>6</a>\u001b[0m n_partecipants \u001b[39m=\u001b[39m randint(\u001b[39m0\u001b[39m, \u001b[39mint\u001b[39m(\u001b[39mlen\u001b[39m(population)\u001b[39m/\u001b[39m\u001b[39m2\u001b[39m))\n\u001b[0;32m      <a href='vscode-notebook-cell:/c%3A/Users/Lorenzo%20Ugoccioni/Documents/PoliTo/LM%20-%20II%20anno/Computational%20Intelligence/Coding/Laboratory/Lab9/lab9.ipynb#X35sZmlsZQ%3D%3D?line=6'>7</a>\u001b[0m pool \u001b[39m=\u001b[39m [choices(population, k\u001b[39m=\u001b[39mn_partecipants)]\n\u001b[1;32m----> <a href='vscode-notebook-cell:/c%3A/Users/Lorenzo%20Ugoccioni/Documents/PoliTo/LM%20-%20II%20anno/Computational%20Intelligence/Coding/Laboratory/Lab9/lab9.ipynb#X35sZmlsZQ%3D%3D?line=7'>8</a>\u001b[0m parent \u001b[39m=\u001b[39m \u001b[39mmax\u001b[39;49m(pool, key\u001b[39m=\u001b[39;49m\u001b[39mlambda\u001b[39;49;00m i: fitness(i))\n\u001b[0;32m     <a href='vscode-notebook-cell:/c%3A/Users/Lorenzo%20Ugoccioni/Documents/PoliTo/LM%20-%20II%20anno/Computational%20Intelligence/Coding/Laboratory/Lab9/lab9.ipynb#X35sZmlsZQ%3D%3D?line=9'>10</a>\u001b[0m \u001b[39mreturn\u001b[39;00m parent\n",
      "\u001b[1;32mc:\\Users\\Lorenzo Ugoccioni\\Documents\\PoliTo\\LM - II anno\\Computational Intelligence\\Coding\\Laboratory\\Lab9\\lab9.ipynb Cella 21\u001b[0m line \u001b[0;36m8\n\u001b[0;32m      <a href='vscode-notebook-cell:/c%3A/Users/Lorenzo%20Ugoccioni/Documents/PoliTo/LM%20-%20II%20anno/Computational%20Intelligence/Coding/Laboratory/Lab9/lab9.ipynb#X35sZmlsZQ%3D%3D?line=5'>6</a>\u001b[0m n_partecipants \u001b[39m=\u001b[39m randint(\u001b[39m0\u001b[39m, \u001b[39mint\u001b[39m(\u001b[39mlen\u001b[39m(population)\u001b[39m/\u001b[39m\u001b[39m2\u001b[39m))\n\u001b[0;32m      <a href='vscode-notebook-cell:/c%3A/Users/Lorenzo%20Ugoccioni/Documents/PoliTo/LM%20-%20II%20anno/Computational%20Intelligence/Coding/Laboratory/Lab9/lab9.ipynb#X35sZmlsZQ%3D%3D?line=6'>7</a>\u001b[0m pool \u001b[39m=\u001b[39m [choices(population, k\u001b[39m=\u001b[39mn_partecipants)]\n\u001b[1;32m----> <a href='vscode-notebook-cell:/c%3A/Users/Lorenzo%20Ugoccioni/Documents/PoliTo/LM%20-%20II%20anno/Computational%20Intelligence/Coding/Laboratory/Lab9/lab9.ipynb#X35sZmlsZQ%3D%3D?line=7'>8</a>\u001b[0m parent \u001b[39m=\u001b[39m \u001b[39mmax\u001b[39m(pool, key\u001b[39m=\u001b[39m\u001b[39mlambda\u001b[39;00m i: fitness(i))\n\u001b[0;32m     <a href='vscode-notebook-cell:/c%3A/Users/Lorenzo%20Ugoccioni/Documents/PoliTo/LM%20-%20II%20anno/Computational%20Intelligence/Coding/Laboratory/Lab9/lab9.ipynb#X35sZmlsZQ%3D%3D?line=9'>10</a>\u001b[0m \u001b[39mreturn\u001b[39;00m parent\n",
      "File \u001b[1;32mc:\\Users\\Lorenzo Ugoccioni\\Documents\\PoliTo\\LM - II anno\\Computational Intelligence\\Coding\\Laboratory\\Lab9\\lab9_lib.py:31\u001b[0m, in \u001b[0;36mAbstractProblem.__call__\u001b[1;34m(self, genome)\u001b[0m\n\u001b[0;32m     27\u001b[0m fitnesses \u001b[39m=\u001b[39m \u001b[39msorted\u001b[39m((AbstractProblem\u001b[39m.\u001b[39monemax(genome[s :: \u001b[39mself\u001b[39m\u001b[39m.\u001b[39mx]) \u001b[39mfor\u001b[39;00m s \u001b[39min\u001b[39;00m \u001b[39mrange\u001b[39m(\u001b[39mself\u001b[39m\u001b[39m.\u001b[39mx)), reverse\u001b[39m=\u001b[39m\u001b[39mTrue\u001b[39;00m)\n\u001b[0;32m     28\u001b[0m val \u001b[39m=\u001b[39m \u001b[39msum\u001b[39m(f \u001b[39mfor\u001b[39;00m f \u001b[39min\u001b[39;00m fitnesses \u001b[39mif\u001b[39;00m f \u001b[39m==\u001b[39m fitnesses[\u001b[39m0\u001b[39m]) \u001b[39m-\u001b[39m \u001b[39msum\u001b[39m(\n\u001b[0;32m     29\u001b[0m     f \u001b[39m*\u001b[39m (\u001b[39m0.1\u001b[39m \u001b[39m*\u001b[39m\u001b[39m*\u001b[39m (k \u001b[39m+\u001b[39m \u001b[39m1\u001b[39m)) \u001b[39mfor\u001b[39;00m k, f \u001b[39min\u001b[39;00m \u001b[39menumerate\u001b[39m(f \u001b[39mfor\u001b[39;00m f \u001b[39min\u001b[39;00m fitnesses \u001b[39mif\u001b[39;00m f \u001b[39m<\u001b[39m fitnesses[\u001b[39m0\u001b[39m])\n\u001b[0;32m     30\u001b[0m )\n\u001b[1;32m---> 31\u001b[0m \u001b[39mreturn\u001b[39;00m val \u001b[39m/\u001b[39;49m \u001b[39mlen\u001b[39;49m(genome)\n",
      "\u001b[1;31mZeroDivisionError\u001b[0m: division by zero"
     ]
    }
   ],
   "source": [
    "population = starting_population\n",
    "mutation_strategy = (mutation1, mutation2)\n",
    "recombination_strategy = (one_cut_crossover, uniform_crossover)\n",
    "parent_selection_strategy = (roulette_wheel, static_tournament, variable_tournament)\n",
    "survival_selection_strategy = (remove_twin, survival_selection)\n",
    "\n",
    "while all(fitness(i) != 1 for i in population):\n",
    "    offspring = list()\n",
    "    for counter in range(NEW_OFFSPRING):\n",
    "        if random() < MUTATION_PROBABILITY:\n",
    "            # MUTATION \n",
    "            p = roulette_wheel(population)\n",
    "            o = mutation1(p)\n",
    "        else:\n",
    "            #CROSS-OVER\n",
    "            p1 = variable_tournament(population)\n",
    "            p2 = variable_tournament(population)\n",
    "            o =  one_cut_crossover(p1, p2)\n",
    "        offspring.append(o)\n",
    "\n",
    "    population.extend(offspring)\n",
    "    population = survival_selection(population)\n",
    "    print(fitness(population[0]))\n",
    "print(fitness.calls)"
   ]
  }
 ],
 "metadata": {
  "kernelspec": {
   "display_name": "ci-fLJ3OwGs-py3.12",
   "language": "python",
   "name": "python3"
  },
  "language_info": {
   "codemirror_mode": {
    "name": "ipython",
    "version": 3
   },
   "file_extension": ".py",
   "mimetype": "text/x-python",
   "name": "python",
   "nbconvert_exporter": "python",
   "pygments_lexer": "ipython3",
   "version": "3.12.0"
  }
 },
 "nbformat": 4,
 "nbformat_minor": 2
}
