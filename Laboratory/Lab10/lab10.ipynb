{
 "cells": [
  {
   "cell_type": "markdown",
   "metadata": {},
   "source": [
    "Copyright **`(c)`** 2023 Giovanni Squillero `<giovanni.squillero@polito.it>`  \n",
    "[`https://github.com/squillero/computational-intelligence`](https://github.com/squillero/computational-intelligence)  \n",
    "Free for personal or classroom use; see [`LICENSE.md`](https://github.com/squillero/computational-intelligence/blob/master/LICENSE.md) for details.  "
   ]
  },
  {
   "cell_type": "markdown",
   "metadata": {},
   "source": [
    "# LAB10\n",
    "\n",
    "Use reinforcement learning to devise a tic-tac-toe player.\n",
    "\n",
    "### Deadlines:\n",
    "\n",
    "* Submission: Sunday, December 17 ([CET](https://www.timeanddate.com/time/zones/cet))\n",
    "* Reviews: Dies Natalis Solis Invicti ([CET](https://en.wikipedia.org/wiki/Sol_Invictus))\n",
    "\n",
    "Notes:\n",
    "\n",
    "* Reviews will be assigned  on Monday, December 4\n",
    "* You need to commit in order to be selected as a reviewer (ie. better to commit an empty work than not to commit)"
   ]
  },
  {
   "cell_type": "markdown",
   "metadata": {},
   "source": [
    "AGENT BASIC 1 - Tecnica base di reinforcement learning, senza aver studiato una parte teorica sull'argomento, aver sviluppato particolari shortcut sulla rappresentazione del problema o aver visto la lezione di aiuto del professore. Tutta \"by my self\", con successo in media intorno al 85%"
   ]
  },
  {
   "cell_type": "code",
   "execution_count": 312,
   "metadata": {},
   "outputs": [],
   "source": [
    "import logging\n",
    "import random\n",
    "from copy import deepcopy, copy\n",
    "from tqdm import tqdm\n",
    "from matplotlib import pyplot as plt\n",
    "from dataclasses import dataclass\n",
    "import numpy as np\n"
   ]
  },
  {
   "cell_type": "code",
   "execution_count": 313,
   "metadata": {},
   "outputs": [],
   "source": [
    "# GLOBAL PARAMETER # \n",
    "NUM_OF_MATCHES = 1000\n",
    "WINNING_REWARD_IF_NOT_STARTING = 3\n",
    "WINNING_REWARD_IF_STARTING = 1\n",
    "STALL_IF_STARTING = -1\n",
    "STALL_IF_NOT_STARTING = 1\n",
    "LOSING_PENALTY = -3"
   ]
  },
  {
   "cell_type": "code",
   "execution_count": 314,
   "metadata": {},
   "outputs": [],
   "source": [
    "# AGENT DEFINITION # \n",
    "@dataclass\n",
    "class Individual:\n",
    "    set_of_moves: dict[tuple, int]\n",
    "    game_decision: []\n",
    "    fitness: float"
   ]
  },
  {
   "cell_type": "code",
   "execution_count": 315,
   "metadata": {},
   "outputs": [],
   "source": [
    "# MATCH DEFINITION # \n",
    "class TicTacToe:\n",
    "    def __init__(self) -> None:\n",
    "        self._game = [[ \" \" for _ in range(3)] for _ in range(3)]\n",
    "        self._status = {\"row\":[0 for _ in range(3)], \"column\":[0 for _ in range(3)], \"diag\":[0 for _ in range(2)]}\n",
    "\n",
    "    def __bool__(self) -> bool:\n",
    "        if check_winning(self._status):\n",
    "            return True\n",
    "        \n",
    "        for line in self._game:\n",
    "            for c in line:\n",
    "                if c == \" \":\n",
    "                    return False\n",
    "        return True\n",
    "    \n",
    "    @property\n",
    "    def stampa(self):        # come stampare tic tac toe a mo' di griglia? \n",
    "        for riga in self._game:\n",
    "            print(\"|\".join(riga))\n",
    "            print(\"-\" * 5)\n",
    "    \n",
    "    def act(self, ply) -> None:\n",
    "        row, col, move = ply\n",
    "        self._status[\"row\"][row] += move\n",
    "        self._status[\"column\"][col] += move\n",
    "        if row==col:\n",
    "            self._status[\"diag\"][0] += move\n",
    "        if row+col==2:\n",
    "            self._status[\"diag\"][1] += move\n",
    "\n",
    "    def design(self, ply) -> None:\n",
    "        row, col, move = ply\n",
    "        if move>0:\n",
    "            self._game[row][col] = \"X\"\n",
    "        if move<0:\n",
    "            self._game[row][col] = \"O\"\n",
    "    "
   ]
  },
  {
   "cell_type": "markdown",
   "metadata": {},
   "source": [
    "## Shortcut / Situation interpretation"
   ]
  },
  {
   "cell_type": "code",
   "execution_count": 316,
   "metadata": {},
   "outputs": [],
   "source": [
    "def check_winning(status) -> bool:\n",
    "    if any(abs(valore) == 3 for lista in status.values() for valore in lista):\n",
    "        return True"
   ]
  },
  {
   "cell_type": "code",
   "execution_count": 317,
   "metadata": {},
   "outputs": [],
   "source": [
    "def defense_analysis(match: TicTacToe) -> tuple:\n",
    "    if any(valore == -2 for lista in match._status.values() for valore in lista):\n",
    "        for key, lista in match._status.items():\n",
    "            try:\n",
    "                index = lista.index(-2)\n",
    "                return  (key, index)\n",
    "            except ValueError:\n",
    "                pass\n",
    "    return None"
   ]
  },
  {
   "cell_type": "code",
   "execution_count": 318,
   "metadata": {},
   "outputs": [],
   "source": [
    "def offense_analysis(match: TicTacToe) -> tuple:\n",
    "    if any(valore == 2 for lista in match._status.values() for valore in lista):\n",
    "        for key, lista in match._status.items():\n",
    "            try:\n",
    "                index = lista.index(2)\n",
    "                return (key, index)\n",
    "            except ValueError:\n",
    "                pass\n",
    "    return None"
   ]
  },
  {
   "cell_type": "markdown",
   "metadata": {},
   "source": [
    "## Player Strategy"
   ]
  },
  {
   "cell_type": "markdown",
   "metadata": {},
   "source": [
    "### Opponent strategy"
   ]
  },
  {
   "cell_type": "code",
   "execution_count": 319,
   "metadata": {},
   "outputs": [],
   "source": [
    "def pure_random(state: TicTacToe, player):\n",
    "    \"\"\"A completely random available move\"\"\"\n",
    "    row = random.choice(range(3))\n",
    "    col = random.choice(range(3))\n",
    "    while state._game[row][col] != \" \":\n",
    "        row = random.choice(range(3))\n",
    "        col = random.choice(range(3))\n",
    "    return (row, col, player)"
   ]
  },
  {
   "cell_type": "markdown",
   "metadata": {},
   "source": [
    "### Agent Strategy - Basic 1"
   ]
  },
  {
   "cell_type": "code",
   "execution_count": 320,
   "metadata": {},
   "outputs": [],
   "source": [
    "def improved_agent_move(state: TicTacToe, player: Individual):\n",
    "    \"\"\"Do I have a match-point? Can I close the game with 1 right move?\"\"\"\n",
    "    offensive_move = offense_analysis(state)\n",
    "    if offensive_move is not None:\n",
    "        if offensive_move[0] == \"row\":\n",
    "            for col in range(3):\n",
    "                if state._game[offensive_move[1]][col] == \" \":\n",
    "                    break\n",
    "            return (offensive_move[1], col, 1)\n",
    "        elif offensive_move[0] == \"column\":\n",
    "            for row in range(3):\n",
    "                if state._game[row][offensive_move[1]] == \" \":\n",
    "                    break\n",
    "            return (row, offensive_move[1], 1)\n",
    "        elif offensive_move[0] == \"diag\":\n",
    "            if offensive_move[1] == 0:\n",
    "                for rc in range(3):\n",
    "                    if state._game[rc][rc] == \" \":\n",
    "                        break\n",
    "                return (rc, rc, 1)\n",
    "            else:\n",
    "                for rc in range(3):\n",
    "                    if state._game[rc][2-rc] == \" \":\n",
    "                        break     \n",
    "                return (rc, 2-rc, 1)\n",
    "\n",
    "\n",
    "    defensive_move = defense_analysis(state)\n",
    "    \"\"\"Do my opponent have a match-point? Can I defend and extend the game with 1 right move?\"\"\"\n",
    "    if defensive_move is not None:\n",
    "        if defensive_move[0] == \"row\":\n",
    "            for col in range(3):\n",
    "                if state._game[defensive_move[1]][col] == \" \":\n",
    "                    break\n",
    "            return (defensive_move[1], col, 1)\n",
    "        elif defensive_move[0] == \"column\":\n",
    "            for row in range(3):\n",
    "                if state._game[row][defensive_move[1]] == \" \":\n",
    "                    break\n",
    "            return (row, defensive_move[1], 1)\n",
    "        elif defensive_move[0] == \"diag\":\n",
    "            if defensive_move[1] == 0:\n",
    "                for rc in range(3):\n",
    "                    if state._game[rc][rc] == \" \":\n",
    "                        break\n",
    "                return (rc, rc, 1)\n",
    "            else:\n",
    "                for rc in range(3):\n",
    "                    if state._game[rc][2-rc] == \" \":\n",
    "                        break     \n",
    "                return (rc, 2-rc, 1)\n",
    "            \n",
    "    \"\"\"Choose from a list of move\"\"\"\n",
    "    list_of_moves = sorted(player.set_of_moves.items(), key=lambda m:m[1])\n",
    "    (row, col) = list_of_moves.pop()[0]\n",
    "    while state._game[row][col] != \" \":\n",
    "        (row, col) = list_of_moves.pop()[0]\n",
    "    player.game_decision.append((row, col))\n",
    "    return (row, col, 1)"
   ]
  },
  {
   "cell_type": "code",
   "execution_count": 321,
   "metadata": {},
   "outputs": [],
   "source": [
    "def learning_strategy(starter, winner, player: Individual):\n",
    "    for i, move in enumerate(player.game_decision):\n",
    "\n",
    "        if winner>0:\n",
    "            ## WINNING_REWARD\n",
    "            if starter>0:\n",
    "                ##_IF_STARTING\n",
    "                player.set_of_moves[move] += len(player.game_decision)-i    # max([0,len(player.game_decision)-0.5*i])\n",
    "            else:\n",
    "                ##_IF_NOT_STARTING\n",
    "                player.set_of_moves[move] += 1.5*(len(player.game_decision)-i)\n",
    "        elif winner == 0:\n",
    "            ## STALL\n",
    "            if starter>0:\n",
    "                ##_IF_STARTING\n",
    "                player.set_of_moves[move] -= i*len(player.game_decision)\n",
    "            else:\n",
    "                ##_IF_NOT_STARTING\n",
    "                player.set_of_moves[move] += i*len(player.game_decision)\n",
    "        else:\n",
    "            ##LOSING_PENALTY\n",
    "            player.set_of_moves[move] += LOSING_PENALTY*(len(player.game_decision)-i)\n",
    "    player.game_decision.clear()\n",
    "\n"
   ]
  },
  {
   "cell_type": "markdown",
   "metadata": {},
   "source": [
    "## TicTacToe Match"
   ]
  },
  {
   "cell_type": "code",
   "execution_count": 322,
   "metadata": {},
   "outputs": [],
   "source": [
    "agent = Individual(\n",
    "    set_of_moves = {(i, j): 0 for i in range(3) for j in range(3)} ,\n",
    "    game_decision = [],\n",
    "    fitness = 0.0\n",
    ")"
   ]
  },
  {
   "cell_type": "code",
   "execution_count": 323,
   "metadata": {},
   "outputs": [],
   "source": [
    "def Game(players) -> tuple:\n",
    "    match = TicTacToe()\n",
    "    starter = random.choice([-1, -1, -1, 1])        # Inizio io il 25% delle volte\n",
    "    player = starter\n",
    "    while not match:\n",
    "\n",
    "        player = -player\n",
    "        if player > 0:\n",
    "            ply = improved_agent_move(match, players[1])\n",
    "        if player < 0:\n",
    "            ply = players[0](match, player)\n",
    "        match.design(ply)\n",
    "        match.act(ply)\n",
    "\n",
    "    if not check_winning(match._status):\n",
    "        player = 0\n",
    "\n",
    "    return starter, player"
   ]
  },
  {
   "cell_type": "markdown",
   "metadata": {},
   "source": [
    "## TRAINING - Agent1 vs Random - 1000 match"
   ]
  },
  {
   "cell_type": "code",
   "execution_count": null,
   "metadata": {},
   "outputs": [],
   "source": [
    "logging.getLogger().setLevel(logging.INFO)\n",
    "\n",
    "strategy = (pure_random, agent)\n",
    "history = []\n",
    "\n",
    "for n in range(NUM_OF_MATCHES):\n",
    "    starter, winner = Game(strategy)\n",
    "    if winner==0:\n",
    "        pass\n",
    "        #logging.info(f\"status: No winner !\")\n",
    "    else:\n",
    "        pass\n",
    "        #logging.info(f\"status: Player {\"move X\" if winner>0 else \"move O\"} won!\")\n",
    "    learning_strategy(starter, winner, strategy[1])\n",
    "    history.append(winner)\n",
    "print(agent.set_of_moves)\n",
    "\n",
    "\"\"\"history = np.array(history)\n",
    "generations = range(1, NUM_OF_MATCHES + 1)\n",
    "\n",
    "plt.plot(generations, history, marker='o', linestyle='-', color='r')\n",
    "plt.title('Results Over Rounds')\n",
    "plt.xlabel('Rounds')\n",
    "plt.ylabel('Win %')\n",
    "plt.grid(True)\n",
    "plt.show()\"\"\""
   ]
  },
  {
   "cell_type": "markdown",
   "metadata": {},
   "source": [
    "## Evaluation Games"
   ]
  },
  {
   "cell_type": "code",
   "execution_count": null,
   "metadata": {},
   "outputs": [],
   "source": [
    "# SINGLE FINAL GAME #\n",
    "strategy = (pure_random, agent)\n",
    "winner = Game(strategy)\n",
    "match = TicTacToe()\n",
    "player = -1\n",
    "\n",
    "while not match:\n",
    "    player = -player\n",
    "    if player > 0:\n",
    "        ply = improved_agent_move(match, agent)\n",
    "    if player < 0:\n",
    "        ply = strategy[0](match, player)\n",
    "    match.design(ply)\n",
    "    match.act(ply)\n",
    "    match.stampa"
   ]
  },
  {
   "cell_type": "code",
   "execution_count": null,
   "metadata": {},
   "outputs": [],
   "source": [
    "logging.getLogger().setLevel(logging.INFO)\n",
    "\n",
    "strategy = (pure_random, agent)\n",
    "history = []\n",
    "for round in range(1000):\n",
    "    win=0\n",
    "    for n in range(100):\n",
    "        starter, winner = Game(strategy)\n",
    "        if winner==0:\n",
    "            pass\n",
    "            #logging.info(f\"status: No winner !\")\n",
    "        else:\n",
    "            if winner==1:\n",
    "                win += 1\n",
    "            #logging.info(f\"status: {\"I'm winning!\" if winner>0 else \"I'm still losing!\"}\")\n",
    "\n",
    "    history.append(win)\n",
    "    print(f\"{win} %\")\n",
    "\n",
    "history = np.array(history)\n",
    "avg_at_every_round = np.cumsum(history) / (np.arange(len(history)) + 1)\n",
    "generations = range(1, 1000 + 1)\n",
    "\n",
    "plt.plot(generations, avg_at_every_round, linestyle='-', color='r')\n",
    "plt.title('Results Over Rounds')\n",
    "plt.xlabel('Rounds')\n",
    "plt.ylabel('Win %')\n",
    "plt.grid(True)\n",
    "plt.show()"
   ]
  }
 ],
 "metadata": {
  "kernelspec": {
   "display_name": "ci-fLJ3OwGs-py3.12",
   "language": "python",
   "name": "python3"
  },
  "language_info": {
   "codemirror_mode": {
    "name": "ipython",
    "version": 3
   },
   "file_extension": ".py",
   "mimetype": "text/x-python",
   "name": "python",
   "nbconvert_exporter": "python",
   "pygments_lexer": "ipython3",
   "version": "3.12.0"
  }
 },
 "nbformat": 4,
 "nbformat_minor": 2
}
