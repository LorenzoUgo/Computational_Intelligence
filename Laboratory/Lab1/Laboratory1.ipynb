{
 "cells": [
  {
   "cell_type": "code",
   "execution_count": 17,
   "metadata": {},
   "outputs": [],
   "source": [
    "from random import random\n",
    "from math import ceil\n",
    "from functools import reduce\n",
    "from collections import namedtuple, deque\n",
    "from queue import PriorityQueue\n",
    "\n",
    "import numpy as np\n",
    "from tqdm.auto import tqdm"
   ]
  },
  {
   "cell_type": "code",
   "execution_count": 40,
   "metadata": {},
   "outputs": [],
   "source": [
    "State = namedtuple('State', ['taken', 'not_taken'])\n",
    "\n",
    "def goal_check(state):\n",
    "    return np.all(covered(state))\n",
    "\n",
    "def covered(state):\n",
    "    return reduce(np.logical_or, [SETS[i] for i in state.taken], np.array([False for _ in range(PROBLEM_SIZE)]))"
   ]
  },
  {
   "cell_type": "code",
   "execution_count": 158,
   "metadata": {},
   "outputs": [],
   "source": [
    "PROBLEM_SIZE = 20\n",
    "NUM_SETS = 40\n",
    "SETS = tuple(np.array([random()<.3 for _ in range(PROBLEM_SIZE)])for _ in range(NUM_SETS))\n",
    "assert goal_check(State(set(range(NUM_SETS)), set())), \"Probelm not solvable\""
   ]
  },
  {
   "cell_type": "code",
   "execution_count": 159,
   "metadata": {},
   "outputs": [
    {
     "name": "stdout",
     "output_type": "stream",
     "text": [
      "[ 9 11 14 16  9 14 12 14 11 15 11 17 12 10 13 11 13  9 14 13]\n"
     ]
    },
    {
     "data": {
      "text/plain": [
       "(array([False, False, False,  True, False, False, False, False, False,\n",
       "         True, False,  True, False,  True, False, False,  True, False,\n",
       "         True,  True]),\n",
       " array([False,  True,  True,  True, False,  True,  True, False, False,\n",
       "        False, False, False,  True, False, False, False,  True, False,\n",
       "        False, False]),\n",
       " array([False, False, False, False, False, False,  True,  True, False,\n",
       "        False, False, False, False, False, False, False, False, False,\n",
       "         True, False]),\n",
       " array([ True, False,  True, False, False, False,  True, False,  True,\n",
       "         True, False, False, False, False, False,  True, False, False,\n",
       "        False, False]),\n",
       " array([False, False, False, False, False, False, False, False, False,\n",
       "         True, False,  True, False,  True,  True,  True,  True, False,\n",
       "        False, False]),\n",
       " array([False,  True, False,  True, False, False, False,  True,  True,\n",
       "        False, False, False,  True,  True,  True, False, False, False,\n",
       "        False, False]),\n",
       " array([False, False, False, False, False, False, False, False,  True,\n",
       "        False, False,  True, False, False, False, False,  True,  True,\n",
       "        False, False]),\n",
       " array([ True, False, False, False,  True,  True,  True, False, False,\n",
       "        False, False, False, False,  True, False, False, False,  True,\n",
       "        False, False]),\n",
       " array([False, False, False,  True, False,  True,  True,  True, False,\n",
       "         True, False,  True, False, False, False,  True, False, False,\n",
       "        False,  True]),\n",
       " array([False, False, False, False, False, False, False,  True, False,\n",
       "         True, False, False, False, False, False, False, False, False,\n",
       "         True, False]),\n",
       " array([False,  True,  True,  True, False,  True,  True, False,  True,\n",
       "         True, False,  True, False, False, False, False, False,  True,\n",
       "        False,  True]),\n",
       " array([False,  True,  True,  True, False,  True, False,  True, False,\n",
       "         True, False,  True,  True, False,  True, False, False, False,\n",
       "        False,  True]),\n",
       " array([False,  True, False,  True, False,  True,  True, False,  True,\n",
       "        False, False,  True, False,  True, False, False, False, False,\n",
       "         True, False]),\n",
       " array([ True, False, False, False, False,  True, False,  True, False,\n",
       "        False,  True,  True,  True, False, False, False, False, False,\n",
       "        False, False]),\n",
       " array([False, False, False, False,  True, False, False, False,  True,\n",
       "        False, False, False, False, False, False, False, False,  True,\n",
       "        False, False]),\n",
       " array([False, False, False, False,  True, False,  True, False, False,\n",
       "         True, False,  True, False, False, False, False, False, False,\n",
       "         True, False]),\n",
       " array([ True, False, False, False, False, False, False,  True, False,\n",
       "        False,  True, False, False,  True, False,  True,  True, False,\n",
       "         True, False]),\n",
       " array([False, False,  True,  True,  True, False, False, False, False,\n",
       "        False, False,  True,  True, False,  True, False, False, False,\n",
       "        False,  True]),\n",
       " array([False, False, False,  True, False, False, False,  True, False,\n",
       "         True,  True, False, False, False,  True,  True, False, False,\n",
       "        False,  True]),\n",
       " array([ True, False,  True,  True, False, False, False, False, False,\n",
       "         True, False,  True,  True,  True, False, False, False, False,\n",
       "        False, False]),\n",
       " array([False,  True,  True, False,  True, False, False, False,  True,\n",
       "        False, False, False, False, False, False,  True, False, False,\n",
       "        False,  True]),\n",
       " array([ True,  True, False,  True, False, False, False, False, False,\n",
       "        False, False, False, False, False,  True, False, False, False,\n",
       "         True, False]),\n",
       " array([ True,  True,  True,  True,  True, False, False, False, False,\n",
       "         True,  True, False,  True, False, False,  True, False, False,\n",
       "         True,  True]),\n",
       " array([False,  True, False, False, False,  True, False,  True, False,\n",
       "        False, False,  True, False, False, False, False,  True, False,\n",
       "        False, False]),\n",
       " array([ True, False,  True, False, False,  True, False, False,  True,\n",
       "        False, False, False, False, False, False,  True,  True, False,\n",
       "         True,  True]),\n",
       " array([False,  True, False, False, False, False,  True,  True, False,\n",
       "         True, False, False,  True, False, False, False,  True,  True,\n",
       "        False, False]),\n",
       " array([False, False, False, False, False, False,  True, False, False,\n",
       "         True, False, False, False, False,  True, False,  True, False,\n",
       "         True, False]),\n",
       " array([False, False, False, False, False, False, False,  True,  True,\n",
       "         True, False,  True, False,  True, False, False, False, False,\n",
       "        False, False]),\n",
       " array([False,  True,  True,  True, False, False, False, False, False,\n",
       "        False,  True, False, False, False,  True, False, False, False,\n",
       "        False, False]),\n",
       " array([False, False, False,  True,  True, False,  True, False, False,\n",
       "        False,  True, False,  True,  True,  True, False,  True, False,\n",
       "         True, False]),\n",
       " array([False, False,  True, False,  True, False, False, False, False,\n",
       "        False,  True,  True, False, False,  True, False, False, False,\n",
       "         True, False]),\n",
       " array([False, False, False, False, False, False, False,  True, False,\n",
       "        False, False, False,  True, False,  True, False, False, False,\n",
       "        False,  True]),\n",
       " array([False, False, False, False, False, False, False, False, False,\n",
       "        False, False,  True,  True, False, False,  True, False, False,\n",
       "        False, False]),\n",
       " array([False, False,  True, False, False,  True, False,  True,  True,\n",
       "        False,  True, False,  True, False, False, False, False,  True,\n",
       "        False,  True]),\n",
       " array([False, False, False, False, False, False, False,  True, False,\n",
       "         True,  True,  True, False, False, False,  True, False,  True,\n",
       "         True, False]),\n",
       " array([ True, False, False, False, False,  True, False, False, False,\n",
       "        False, False,  True, False, False, False, False, False, False,\n",
       "        False,  True]),\n",
       " array([False, False,  True,  True, False,  True, False, False, False,\n",
       "        False,  True, False, False,  True,  True, False,  True, False,\n",
       "        False, False]),\n",
       " array([False, False, False, False,  True,  True, False, False, False,\n",
       "        False, False, False, False, False, False, False, False,  True,\n",
       "         True, False]),\n",
       " array([False, False, False, False, False,  True,  True, False,  True,\n",
       "        False, False, False, False, False,  True, False,  True, False,\n",
       "        False, False]),\n",
       " array([False, False,  True,  True, False, False, False, False, False,\n",
       "        False,  True, False, False, False, False,  True,  True,  True,\n",
       "        False,  True]))"
      ]
     },
     "execution_count": 159,
     "metadata": {},
     "output_type": "execute_result"
    }
   ],
   "source": [
    "print(sum(SETS))\n",
    "SETS"
   ]
  },
  {
   "cell_type": "code",
   "execution_count": 161,
   "metadata": {},
   "outputs": [],
   "source": [
    "def f(state):\n",
    "    return g(state) + h(state)\n",
    "\n",
    "def g(state):\n",
    "    return PROBLEM_SIZE - sum(covered(state))\n",
    "\n",
    "def h(state):\n",
    "    punti_presi = covered(state)\n",
    "    free_tessere = min(PROBLEM_SIZE - sum(np.logical_or(punti_presi, SETS[s])) for s in state.not_taken)\n",
    "    return free_tessere"
   ]
  },
  {
   "cell_type": "code",
   "execution_count": 162,
   "metadata": {},
   "outputs": [
    {
     "name": "stdout",
     "output_type": "stream",
     "text": [
      "Solved in 3 steps (3 tiles)\n"
     ]
    }
   ],
   "source": [
    "frontier = PriorityQueue()\n",
    "state = State(set(), set(range(NUM_SETS)))      # ({taken}, {not_taken})\n",
    "frontier.put((f(state), state))       # [ ( {f=g+h}, { {taken}, {not_taken} } ), ]\n",
    "\n",
    "counter = 0\n",
    "_ , current_state = frontier.get()\n",
    "while not goal_check(current_state):\n",
    "    counter += 1\n",
    "    for tiles in current_state[1]:\n",
    "        new_state = State(current_state.taken ^ {tiles}, current_state.not_taken ^ {tiles})     # \"^\" == XOR\n",
    "        frontier.put((f(new_state), new_state))\n",
    "    _ ,current_state = frontier.get()\n",
    "\n",
    "print(f\"Solved in {counter:,} steps ({len(current_state.taken)} tiles)\")"
   ]
  },
  {
   "cell_type": "code",
   "execution_count": 163,
   "metadata": {},
   "outputs": [
    {
     "data": {
      "text/plain": [
       "State(taken={16, 17, 10}, not_taken={0, 1, 2, 3, 4, 5, 6, 7, 8, 9, 11, 12, 13, 14, 15, 18, 19, 20, 21, 22, 23, 24, 25, 26, 27, 28, 29, 30, 31, 32, 33, 34, 35, 36, 37, 38, 39})"
      ]
     },
     "execution_count": 163,
     "metadata": {},
     "output_type": "execute_result"
    }
   ],
   "source": [
    "current_state"
   ]
  },
  {
   "cell_type": "code",
   "execution_count": 164,
   "metadata": {},
   "outputs": [
    {
     "data": {
      "text/plain": [
       "array([False,  True,  True,  True, False,  True,  True, False,  True,\n",
       "        True, False,  True, False, False, False, False, False,  True,\n",
       "       False,  True])"
      ]
     },
     "execution_count": 164,
     "metadata": {},
     "output_type": "execute_result"
    }
   ],
   "source": [
    "SETS[10]"
   ]
  },
  {
   "cell_type": "code",
   "execution_count": 165,
   "metadata": {},
   "outputs": [
    {
     "data": {
      "text/plain": [
       "array([ True, False, False, False, False, False, False,  True, False,\n",
       "       False,  True, False, False,  True, False,  True,  True, False,\n",
       "        True, False])"
      ]
     },
     "execution_count": 165,
     "metadata": {},
     "output_type": "execute_result"
    }
   ],
   "source": [
    "SETS[16]"
   ]
  },
  {
   "cell_type": "code",
   "execution_count": 166,
   "metadata": {},
   "outputs": [
    {
     "data": {
      "text/plain": [
       "array([False, False,  True,  True,  True, False, False, False, False,\n",
       "       False, False,  True,  True, False,  True, False, False, False,\n",
       "       False,  True])"
      ]
     },
     "execution_count": 166,
     "metadata": {},
     "output_type": "execute_result"
    }
   ],
   "source": [
    "SETS[17]"
   ]
  }
 ],
 "metadata": {
  "kernelspec": {
   "display_name": "venv",
   "language": "python",
   "name": "python3"
  },
  "language_info": {
   "codemirror_mode": {
    "name": "ipython",
    "version": 3
   },
   "file_extension": ".py",
   "mimetype": "text/x-python",
   "name": "python",
   "nbconvert_exporter": "python",
   "pygments_lexer": "ipython3",
   "version": "3.12.0"
  }
 },
 "nbformat": 4,
 "nbformat_minor": 2
}
