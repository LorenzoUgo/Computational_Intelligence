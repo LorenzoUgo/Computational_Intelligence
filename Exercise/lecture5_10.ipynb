{
 "cells": [
  {
   "cell_type": "code",
   "execution_count": 1,
   "metadata": {},
   "outputs": [
    {
     "data": {
      "text/plain": [
       "2"
      ]
     },
     "execution_count": 1,
     "metadata": {},
     "output_type": "execute_result"
    }
   ],
   "source": [
    "1+1"
   ]
  },
  {
   "cell_type": "code",
   "execution_count": 4,
   "metadata": {},
   "outputs": [],
   "source": [
    "def my_first_function(argument1, argument2):\n",
    "    print(argument1, argument2)\n",
    "    argument1.append(256)   #BE carefull to the argument type of a function"
   ]
  },
  {
   "cell_type": "code",
   "execution_count": 5,
   "metadata": {},
   "outputs": [
    {
     "name": "stdout",
     "output_type": "stream",
     "text": [
      "[] 42\n",
      "[256] 42\n"
     ]
    }
   ],
   "source": [
    "foo = list()\n",
    "bar = 42\n",
    "my_first_function(foo, bar)\n",
    "print(foo, bar)"
   ]
  },
  {
   "cell_type": "code",
   "execution_count": 19,
   "metadata": {},
   "outputs": [],
   "source": [
    "def function(foo, bar, baz):\n",
    "    print(foo, bar, baz)\n",
    "\n",
    "def function_with_default_value(foo, bar, baz=42):  \n",
    "    print(foo, bar, baz)\n",
    "\n",
    "def function_parameter_in_any_order(foo, bar, baz):\n",
    "    print(foo, bar, baz)\n",
    "\n",
    "def function_multiple_default_value(foo, a=1, b=2, c=3, d=4, e=5):\n",
    "    print(foo, a, b, c, d, e)\n",
    "\n",
    "def function_must_name(foo, *, a=1, b=2, c=3, d=4, e=5):    #Must use parameter's name\n",
    "    print(foo, a, b, c, d, e)"
   ]
  },
  {
   "cell_type": "code",
   "execution_count": 22,
   "metadata": {},
   "outputs": [
    {
     "name": "stdout",
     "output_type": "stream",
     "text": [
      "12 13 14\n",
      "13 17 42\n",
      "1 2 3\n",
      "42 1 2 3 -99 5\n",
      "42 1 2 3 4 5\n",
      "42 1 5 3 4 7\n",
      "[256] 1 5 3 4 7\n"
     ]
    }
   ],
   "source": [
    "function(12, 13, 14)\n",
    "function_with_default_value(13, 17)     # Using the defualt value\n",
    "function_parameter_in_any_order(bar=2, baz=3, foo=1)    # Parameter in any order, just specifying their names\n",
    "function_multiple_default_value(42, d=-99)\n",
    "function_must_name(42)     # Must use parameter's name\n",
    "function_must_name(42, a=1,b=5,e=7)    # Must use parameter's name\n",
    "function_must_name(foo, a=1,b=5,e=7)    # Must use parameter's name"
   ]
  },
  {
   "cell_type": "code",
   "execution_count": 18,
   "metadata": {},
   "outputs": [
    {
     "name": "stdout",
     "output_type": "stream",
     "text": [
      "1+++2+++3+++4\n"
     ]
    }
   ],
   "source": [
    "print(1, 2, 3, 4, sep='+++')    # Changing the separation rule"
   ]
  },
  {
   "cell_type": "code",
   "execution_count": 31,
   "metadata": {},
   "outputs": [],
   "source": [
    "def tuple_f(*args):   # whatever argument without a name goes inside args->is a TUPLE\n",
    "    print(type(args))\n",
    "    print(args)\n",
    "\n",
    "def array_index(*args):   # whatever argument without a name goes inside args->is a TUPLE\n",
    "    print(args[3])\n",
    "\n",
    "def tuple_and_dictionary(*args, **dict):   # *->TUPLE;  **->DICTIONARY = using argument's name as key, an value as value\n",
    "    print(type(args))\n",
    "    print(args)\n",
    "    print(type(dict))\n",
    "    print(dict)\n"
   ]
  },
  {
   "cell_type": "code",
   "execution_count": 32,
   "metadata": {},
   "outputs": [
    {
     "name": "stdout",
     "output_type": "stream",
     "text": [
      "<class 'tuple'>\n",
      "(1,)\n",
      "<class 'tuple'>\n",
      "(1, 2, 3, 4, 5)\n",
      "<class 'tuple'>\n",
      "4\n",
      "<class 'tuple'>\n",
      "(1, 2, 3, 4)\n",
      "<class 'dict'>\n",
      "{'foo': 23, 'green': 34, 'red': 45, 'blue': 56}\n"
     ]
    }
   ],
   "source": [
    "tuple_f(1)\n",
    "tuple_f(1, 2, 3, 4, 5)\n",
    "array_index(1, 2, 3, 4, 5)\n",
    "tuple_and_dictionary(1, 2, 3, 4, foo=23, green=34, red=45, blue=56)"
   ]
  },
  {
   "cell_type": "code",
   "execution_count": 36,
   "metadata": {},
   "outputs": [],
   "source": [
    "def base(zap):  # Original function\n",
    "    print(\"zap is\", zap)\n",
    "\n",
    "def changed_base(zap, zop, zip):  # Original function\n",
    "    print(\"zap is\", zap)\n"
   ]
  },
  {
   "cell_type": "code",
   "execution_count": 37,
   "metadata": {},
   "outputs": [],
   "source": [
    "def wrapper(*args, red):    # Define a wrapper function\n",
    "    if red==0:      # Use RED !\n",
    "        print(\"!\")\n",
    "    changed_base(*args)     #Pass by all the remainig function"
   ]
  },
  {
   "cell_type": "code",
   "execution_count": 38,
   "metadata": {},
   "outputs": [
    {
     "name": "stdout",
     "output_type": "stream",
     "text": [
      "zap is 23\n"
     ]
    }
   ],
   "source": [
    "wrapper(23, 1, 2, red=1)"
   ]
  },
  {
   "cell_type": "code",
   "execution_count": 39,
   "metadata": {},
   "outputs": [
    {
     "data": {
      "text/plain": [
       "[0, 1, 2, 3, 4, 5, 6, 7, 8, 9]"
      ]
     },
     "execution_count": 39,
     "metadata": {},
     "output_type": "execute_result"
    }
   ],
   "source": [
    "[x for x in range(10)]  # List comprehension"
   ]
  },
  {
   "cell_type": "code",
   "execution_count": 44,
   "metadata": {},
   "outputs": [
    {
     "data": {
      "text/plain": [
       "(1, 0, 0, 1, 1, 1, 1, 2, 4, 1, 3, 9, 1, 4, 16)"
      ]
     },
     "execution_count": 44,
     "metadata": {},
     "output_type": "execute_result"
    }
   ],
   "source": [
    "tuple(x**y for x in range(5) for y in range(3))  # List comprehension as a tuple"
   ]
  },
  {
   "cell_type": "code",
   "execution_count": 58,
   "metadata": {},
   "outputs": [
    {
     "data": {
      "text/plain": [
       "['Adolfo', 'Giovanni', 'Pietro', 'Pio', 'Squillero']"
      ]
     },
     "execution_count": 58,
     "metadata": {},
     "output_type": "execute_result"
    }
   ],
   "source": [
    "name=\"Giovanni Adolfo Pietro Pio Squillero\" # Lambda function\n",
    "foo = name.split()\n",
    "foo.sort()\n",
    "foo"
   ]
  },
  {
   "cell_type": "code",
   "execution_count": 59,
   "metadata": {},
   "outputs": [],
   "source": [
    "def key_function(element):      # Does It is necessary to define a function (name, definition, etc.), if it's a one-shot function?\n",
    "    return len(element)"
   ]
  },
  {
   "cell_type": "code",
   "execution_count": 63,
   "metadata": {},
   "outputs": [
    {
     "name": "stdout",
     "output_type": "stream",
     "text": [
      "['Pio', 'Adolfo', 'Pietro', 'Giovanni', 'Squillero']\n",
      "['Squillero', 'Giovanni', 'Adolfo', 'Pietro', 'Pio']\n"
     ]
    }
   ],
   "source": [
    "foo.sort(key=key_function)      # Function is a callable object, that is called as a sorting method\n",
    "print(foo)\n",
    "foo.sort(key=lambda e:len(e), reverse=True)     # LAMBA FUNCTION + To obtain the inverse order of the function\n",
    "print(foo)\n"
   ]
  }
 ],
 "metadata": {
  "kernelspec": {
   "display_name": "venv",
   "language": "python",
   "name": "python3"
  },
  "language_info": {
   "codemirror_mode": {
    "name": "ipython",
    "version": 3
   },
   "file_extension": ".py",
   "mimetype": "text/x-python",
   "name": "python",
   "nbconvert_exporter": "python",
   "pygments_lexer": "ipython3",
   "version": "3.12.0"
  }
 },
 "nbformat": 4,
 "nbformat_minor": 2
}
