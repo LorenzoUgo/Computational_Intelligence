{
 "cells": [
  {
   "cell_type": "code",
   "execution_count": 8,
   "metadata": {},
   "outputs": [],
   "source": [
    "import numpy as np\n",
    "from functools import reduce\n",
    "from random import random\n",
    "from queue import PriorityQueue, SimpleQueue, LifoQueue\n",
    "from collections import *"
   ]
  },
  {
   "cell_type": "code",
   "execution_count": 9,
   "metadata": {},
   "outputs": [],
   "source": [
    "# CONSTANT AS START PROBLEM\n",
    "PROBLEM_SIZE = 5\n",
    "NUM_SETS = 10\n",
    "SETS = tuple(np.array([random() < .3 for _ in range(PROBLEM_SIZE)])for _ in range(NUM_SETS))  # 20% di porbabilità di essere TRUE; List convertita in numpyArray -> Tupla di 'NUM_SETS' np.array\n",
    "State = namedtuple('State', ['taken', 'not_taken'])"
   ]
  },
  {
   "cell_type": "code",
   "execution_count": 10,
   "metadata": {},
   "outputs": [],
   "source": [
    "def goal_check(state):      # Our Question to check if I found acceptable solution\n",
    "    return np.all(reduce(np.logical_or, [SETS[i] for i in state.taken], np.array([False for _ in range(PROBLEM_SIZE)]))) # initial value of all FALSE\n",
    "# Logical OR between all the TAKEN element --> check if resulting element have ALL True\n",
    "\n",
    "def distance(state):      # function that compute the distance from actual and goal state; just to give some direction to the analysis\n",
    "    return PROBLEM_SIZE - sum(      # TRUE->1 FALSE->0\n",
    "        reduce(\n",
    "            np.logical_or,\n",
    "            [SETS[i] for i in state.taken],\n",
    "            np.array([False for _ in range(PROBLEM_SIZE)])\n",
    "            )\n",
    "        ) #"
   ]
  },
  {
   "cell_type": "code",
   "execution_count": 11,
   "metadata": {},
   "outputs": [],
   "source": [
    "assert goal_check(State(set(range(NUM_SETS)), set())), \"Problem not solvable !\"  # Goal state to reach, otherwise it return an Error as \"Problem not solvable\""
   ]
  },
  {
   "cell_type": "code",
   "execution_count": 12,
   "metadata": {},
   "outputs": [
    {
     "name": "stdout",
     "output_type": "stream",
     "text": [
      "Solved in 3 steps with 3 tiles\n"
     ]
    }
   ],
   "source": [
    "#   Actual Alghoritm --> Breath Search ? # Quality of solution -> Less number possible of set to cover all the point\n",
    "frontier = PriorityQueue()  # Where I put set to be discovered -> ACTUALLY I DON'T KNOW what i'm using as a KEY !!\n",
    "state = State(set(), set(range(NUM_SETS)))\n",
    "frontier.put((distance(state), state))       # Starting point of frontier\n",
    "\n",
    "counter = 0\n",
    "_, current_state = frontier.get()\n",
    "while not goal_check(current_state):\n",
    "    counter += 1\n",
    "    for action in current_state[1]:     # consider all the NotTaken_set (once at time) AT the current state\n",
    "        new_state = State(current_state.taken ^ {action}, current_state.not_taken ^{action})    # '^' == XOR\n",
    "        frontier.put((distance(new_state), new_state))\n",
    "    _, current_state = frontier.get()\n",
    "\n",
    "print(f\"Solved in {counter:,} steps with {len(current_state.taken)} tiles\")\n",
    "\n",
    "# We don't care about the costs! -> Cost=number of element/set OR Cost=totn nunmber of TRUE in Taken_Set'''"
   ]
  },
  {
   "cell_type": "code",
   "execution_count": 13,
   "metadata": {},
   "outputs": [
    {
     "data": {
      "text/plain": [
       "State(taken={1, 4, 9}, not_taken={0, 2, 3, 5, 6, 7, 8})"
      ]
     },
     "execution_count": 13,
     "metadata": {},
     "output_type": "execute_result"
    }
   ],
   "source": [
    "current_state"
   ]
  }
 ],
 "metadata": {
  "kernelspec": {
   "display_name": "venv",
   "language": "python",
   "name": "python3"
  },
  "language_info": {
   "codemirror_mode": {
    "name": "ipython",
    "version": 3
   },
   "file_extension": ".py",
   "mimetype": "text/x-python",
   "name": "python",
   "nbconvert_exporter": "python",
   "pygments_lexer": "ipython3",
   "version": "3.12.0"
  }
 },
 "nbformat": 4,
 "nbformat_minor": 2
}
